{
 "cells": [
  {
   "cell_type": "code",
   "execution_count": 177,
   "id": "3357b916",
   "metadata": {},
   "outputs": [],
   "source": [
    "import tensorflow as tf"
   ]
  },
  {
   "cell_type": "code",
   "execution_count": 178,
   "id": "cd63ec5a",
   "metadata": {},
   "outputs": [
    {
     "name": "stdout",
     "output_type": "stream",
     "text": [
      "Found GPU at: /device:GPU:0\n"
     ]
    },
    {
     "name": "stderr",
     "output_type": "stream",
     "text": [
      "2022-02-21 13:58:07.930397: I tensorflow/stream_executor/cuda/cuda_gpu_executor.cc:941] successful NUMA node read from SysFS had negative value (-1), but there must be at least one NUMA node, so returning NUMA node zero\n",
      "2022-02-21 13:58:07.930840: I tensorflow/core/common_runtime/gpu/gpu_device.cc:1720] Found device 0 with properties: \n",
      "pciBusID: 0000:01:00.0 name: NVIDIA GeForce GTX 1070 computeCapability: 6.1\n",
      "coreClock: 1.7845GHz coreCount: 15 deviceMemorySize: 7.93GiB deviceMemoryBandwidth: 238.66GiB/s\n",
      "2022-02-21 13:58:07.930917: I tensorflow/stream_executor/platform/default/dso_loader.cc:49] Successfully opened dynamic library libcudart.so.10.1\n",
      "2022-02-21 13:58:07.930968: I tensorflow/stream_executor/platform/default/dso_loader.cc:49] Successfully opened dynamic library libcublas.so.10\n",
      "2022-02-21 13:58:07.931004: I tensorflow/stream_executor/platform/default/dso_loader.cc:49] Successfully opened dynamic library libcublasLt.so.10\n",
      "2022-02-21 13:58:07.931042: I tensorflow/stream_executor/platform/default/dso_loader.cc:49] Successfully opened dynamic library libcufft.so.10\n",
      "2022-02-21 13:58:07.931097: I tensorflow/stream_executor/platform/default/dso_loader.cc:49] Successfully opened dynamic library libcurand.so.10\n",
      "2022-02-21 13:58:07.931138: I tensorflow/stream_executor/platform/default/dso_loader.cc:49] Successfully opened dynamic library libcusolver.so.10\n",
      "2022-02-21 13:58:07.931177: I tensorflow/stream_executor/platform/default/dso_loader.cc:49] Successfully opened dynamic library libcusparse.so.10\n",
      "2022-02-21 13:58:07.931216: I tensorflow/stream_executor/platform/default/dso_loader.cc:49] Successfully opened dynamic library libcudnn.so.7\n",
      "2022-02-21 13:58:07.931358: I tensorflow/stream_executor/cuda/cuda_gpu_executor.cc:941] successful NUMA node read from SysFS had negative value (-1), but there must be at least one NUMA node, so returning NUMA node zero\n",
      "2022-02-21 13:58:07.931832: I tensorflow/stream_executor/cuda/cuda_gpu_executor.cc:941] successful NUMA node read from SysFS had negative value (-1), but there must be at least one NUMA node, so returning NUMA node zero\n",
      "2022-02-21 13:58:07.932190: I tensorflow/core/common_runtime/gpu/gpu_device.cc:1862] Adding visible gpu devices: 0\n",
      "2022-02-21 13:58:07.932255: I tensorflow/core/common_runtime/gpu/gpu_device.cc:1261] Device interconnect StreamExecutor with strength 1 edge matrix:\n",
      "2022-02-21 13:58:07.932269: I tensorflow/core/common_runtime/gpu/gpu_device.cc:1267]      0 \n",
      "2022-02-21 13:58:07.932280: I tensorflow/core/common_runtime/gpu/gpu_device.cc:1280] 0:   N \n",
      "2022-02-21 13:58:07.932476: I tensorflow/stream_executor/cuda/cuda_gpu_executor.cc:941] successful NUMA node read from SysFS had negative value (-1), but there must be at least one NUMA node, so returning NUMA node zero\n",
      "2022-02-21 13:58:07.932997: I tensorflow/stream_executor/cuda/cuda_gpu_executor.cc:941] successful NUMA node read from SysFS had negative value (-1), but there must be at least one NUMA node, so returning NUMA node zero\n",
      "2022-02-21 13:58:07.933469: I tensorflow/core/common_runtime/gpu/gpu_device.cc:1406] Created TensorFlow device (/device:GPU:0 with 6946 MB memory) -> physical GPU (device: 0, name: NVIDIA GeForce GTX 1070, pci bus id: 0000:01:00.0, compute capability: 6.1)\n",
      "2022-02-21 13:58:07.933514: I tensorflow/compiler/jit/xla_gpu_device.cc:99] Not creating XLA devices, tf_xla_enable_xla_devices not set\n"
     ]
    }
   ],
   "source": [
    "# Get the GPU device name.\n",
    "device_name = tf.test.gpu_device_name()\n",
    "\n",
    "# The device name should look like the following:\n",
    "if device_name == '/device:GPU:0':\n",
    "    print('Found GPU at: {}'.format(device_name))\n",
    "else:\n",
    "    raise SystemError('GPU device not found')"
   ]
  },
  {
   "cell_type": "code",
   "execution_count": 179,
   "id": "5c288713",
   "metadata": {},
   "outputs": [
    {
     "name": "stdout",
     "output_type": "stream",
     "text": [
      "There are 1 GPU(s) available.\n",
      "We will use the GPU: NVIDIA GeForce GTX 1070\n"
     ]
    }
   ],
   "source": [
    "import torch\n",
    "\n",
    "# If there's a GPU available...\n",
    "if torch.cuda.is_available():    \n",
    "\n",
    "    # Tell PyTorch to use the GPU.    \n",
    "    device = torch.device(\"cuda\")\n",
    "\n",
    "    print('There are %d GPU(s) available.' % torch.cuda.device_count())\n",
    "\n",
    "    print('We will use the GPU:', torch.cuda.get_device_name(0))\n",
    "\n",
    "# If not...\n",
    "else:\n",
    "    print('No GPU available, using the CPU instead.')\n",
    "    device = torch.device(\"cpu\")"
   ]
  },
  {
   "cell_type": "code",
   "execution_count": 180,
   "id": "cc3eaae1",
   "metadata": {},
   "outputs": [
    {
     "data": {
      "text/html": [
       "<div>\n",
       "<style scoped>\n",
       "    .dataframe tbody tr th:only-of-type {\n",
       "        vertical-align: middle;\n",
       "    }\n",
       "\n",
       "    .dataframe tbody tr th {\n",
       "        vertical-align: top;\n",
       "    }\n",
       "\n",
       "    .dataframe thead th {\n",
       "        text-align: right;\n",
       "    }\n",
       "</style>\n",
       "<table border=\"1\" class=\"dataframe\">\n",
       "  <thead>\n",
       "    <tr style=\"text-align: right;\">\n",
       "      <th></th>\n",
       "      <th>Unnamed: 0</th>\n",
       "      <th>Date</th>\n",
       "      <th>text</th>\n",
       "      <th>Sentiment</th>\n",
       "    </tr>\n",
       "  </thead>\n",
       "  <tbody>\n",
       "    <tr>\n",
       "      <th>0</th>\n",
       "      <td>0</td>\n",
       "      <td>2019-05-27</td>\n",
       "      <td>@tippin_me @karozagorus I give 5 satoshis to e...</td>\n",
       "      <td>Positive</td>\n",
       "    </tr>\n",
       "    <tr>\n",
       "      <th>1</th>\n",
       "      <td>1</td>\n",
       "      <td>2019-05-27</td>\n",
       "      <td>@hitbtc @bkargili Attention hit btc does scam ...</td>\n",
       "      <td>Positive</td>\n",
       "    </tr>\n",
       "    <tr>\n",
       "      <th>2</th>\n",
       "      <td>2</td>\n",
       "      <td>2019-05-27</td>\n",
       "      <td>BTC(ビットコイン)が95万円超えてますやん… https://t.co/uzXGkzKDcI</td>\n",
       "      <td>Positive</td>\n",
       "    </tr>\n",
       "    <tr>\n",
       "      <th>3</th>\n",
       "      <td>3</td>\n",
       "      <td>2019-05-27</td>\n",
       "      <td>@CryptoGainz1 Yep https://t.co/TrpbxApU3H</td>\n",
       "      <td>Positive</td>\n",
       "    </tr>\n",
       "    <tr>\n",
       "      <th>4</th>\n",
       "      <td>4</td>\n",
       "      <td>2019-05-27</td>\n",
       "      <td>@Kexkey @hodlwallet We’ll miss you, but we won...</td>\n",
       "      <td>Positive</td>\n",
       "    </tr>\n",
       "  </tbody>\n",
       "</table>\n",
       "</div>"
      ],
      "text/plain": [
       "  Unnamed: 0        Date                                               text  \\\n",
       "0          0  2019-05-27  @tippin_me @karozagorus I give 5 satoshis to e...   \n",
       "1          1  2019-05-27  @hitbtc @bkargili Attention hit btc does scam ...   \n",
       "2          2  2019-05-27   BTC(ビットコイン)が95万円超えてますやん… https://t.co/uzXGkzKDcI   \n",
       "3          3  2019-05-27          @CryptoGainz1 Yep https://t.co/TrpbxApU3H   \n",
       "4          4  2019-05-27  @Kexkey @hodlwallet We’ll miss you, but we won...   \n",
       "\n",
       "  Sentiment  \n",
       "0  Positive  \n",
       "1  Positive  \n",
       "2  Positive  \n",
       "3  Positive  \n",
       "4  Positive  "
      ]
     },
     "execution_count": 180,
     "metadata": {},
     "output_type": "execute_result"
    }
   ],
   "source": [
    "# import the training data into df \n",
    "df = pd.read_csv('CSVFiles/training-data.csv')\n",
    "df.head()"
   ]
  },
  {
   "cell_type": "code",
   "execution_count": 181,
   "id": "cd52586e",
   "metadata": {},
   "outputs": [],
   "source": [
    "import matplotlib.pyplot as plt \n",
    "import seaborn as sns "
   ]
  },
  {
   "cell_type": "code",
   "execution_count": 182,
   "id": "aafd7c11",
   "metadata": {},
   "outputs": [
    {
     "data": {
      "text/plain": [
       "Text(0.5, 0, 'Sentiment Score')"
      ]
     },
     "execution_count": 182,
     "metadata": {},
     "output_type": "execute_result"
    },
    {
     "data": {
      "image/png": "[encoded data removed]",
      "text/plain": [
       "<Figure size 432x288 with 1 Axes>"
      ]
     },
     "metadata": {
      "needs_background": "light"
     },
     "output_type": "display_data"
    }
   ],
   "source": [
    "sns.countplot(x=df.Sentiment)\n",
    "plt.xlabel('Sentiment Score')"
   ]
  },
  {
   "cell_type": "code",
   "execution_count": 183,
   "id": "e6e826ba",
   "metadata": {},
   "outputs": [
    {
     "name": "stdout",
     "output_type": "stream",
     "text": [
      "Requirement already satisfied: huggingface in /home/phil81/anaconda3/envs/tf-gpu/lib/python3.9/site-packages (0.0.1)\r\n"
     ]
    }
   ],
   "source": [
    "# install hugging face library to use their transformers package \n",
    "!pip install huggingface"
   ]
  },
  {
   "cell_type": "code",
   "execution_count": 184,
   "id": "e5d72644",
   "metadata": {},
   "outputs": [
    {
     "name": "stdout",
     "output_type": "stream",
     "text": [
      "Number of training sentences: 10,006\n",
      "\n"
     ]
    }
   ],
   "source": [
    "print('Number of training sentences: {:,}\\n'.format(df.shape[0])) # we have 10,006 total sentences "
   ]
  },
  {
   "cell_type": "code",
   "execution_count": 187,
   "id": "cd13ef86",
   "metadata": {},
   "outputs": [],
   "source": [
    "df = df.replace({'Sentiment': {'Negative':'0', 'Neutral':'1', 'Positive':'2'}})"
   ]
  },
  {
   "cell_type": "code",
   "execution_count": 67,
   "id": "b7cbfd42",
   "metadata": {},
   "outputs": [],
   "source": [
    "# !pip install transformers\n",
    "# now we want to format our data so that VERT can use it for training \n",
    "from transformers import BertTokenizer \n",
    "\n",
    "# load the BERT tokenizer \n",
    "tokenizer = BertTokenizer.from_pretrained('bert-base-uncased', do_lower_case=True)"
   ]
  },
  {
   "cell_type": "code",
   "execution_count": 68,
   "id": "7671e474",
   "metadata": {},
   "outputs": [
    {
     "name": "stdout",
     "output_type": "stream",
     "text": [
      " Original:  @tippin_me @karozagorus I give 5 satoshis to everyone for free and without any conditions. \n",
      "\n",
      "So anyone can instantly start using and learning Bitcoin without any initial investment.🎉\n",
      "\n",
      "#Bitcoin #MassAdoption #LightningNetwork\n",
      "Tokenized:  ['@', 'tip', '##pin', '_', 'me', '@', 'ka', '##ro', '##za', '##gor', '##us', 'i', 'give', '5', 'sato', '##shi', '##s', 'to', 'everyone', 'for', 'free', 'and', 'without', 'any', 'conditions', '.', 'so', 'anyone', 'can', 'instantly', 'start', 'using', 'and', 'learning', 'bit', '##co', '##in', 'without', 'any', 'initial', 'investment', '.', '[UNK]', '#', 'bit', '##co', '##in', '#', 'mass', '##ado', '##ption', '#', 'lightning', '##net', '##work']\n",
      "Token IDs:  [1030, 5955, 8091, 1035, 2033, 1030, 10556, 3217, 4143, 20255, 2271, 1045, 2507, 1019, 20251, 6182, 2015, 2000, 3071, 2005, 2489, 1998, 2302, 2151, 3785, 1012, 2061, 3087, 2064, 6880, 2707, 2478, 1998, 4083, 2978, 3597, 2378, 2302, 2151, 3988, 5211, 1012, 100, 1001, 2978, 3597, 2378, 1001, 3742, 9365, 16790, 1001, 7407, 7159, 6198]\n"
     ]
    }
   ],
   "source": [
    "# some sample output \n",
    "print(' Original: ', tweets[0])\n",
    "print('Tokenized: ', tokenizer.tokenize(tweets[0]))\n",
    "print('Token IDs: ', tokenizer.convert_tokens_to_ids(tokenizer.tokenize(tweets[0])))"
   ]
  },
  {
   "cell_type": "code",
   "execution_count": 101,
   "id": "bf67b98a",
   "metadata": {},
   "outputs": [],
   "source": [
    "# some regex to clean the data before passing it to BERT tokenizer  \n",
    "import re \n",
    "df_new = df.replace(to_replace='https?:\\/\\/\\S+', value='', regex=True) # remove https urls \n",
    "df_new = df.replace(to_replace=\"www\\.[a-z]?\\.?(com)+|[a-z]+\\.(com)\", value='', regex=True) # remove www urls \n",
    "df_new = df.replace(to_replace=\"\\[video\\]\", value='', regex=True) # remove videos that got replaced with [video]\n",
    "df_new = df.replace(to_replace='{link}', value='', regex=True) # remove links \n",
    "df_new = df.replace(to_replace='&[a-z]+;', value='', regex=True) # remove HTML embedded characters\n",
    "df_new = df.replace(to_replace='@[^ ]+', value='', regex=True) # remove @usernames "
   ]
  },
  {
   "cell_type": "code",
   "execution_count": 102,
   "id": "ac6f0bb4",
   "metadata": {},
   "outputs": [
    {
     "data": {
      "text/html": [
       "<div>\n",
       "<style scoped>\n",
       "    .dataframe tbody tr th:only-of-type {\n",
       "        vertical-align: middle;\n",
       "    }\n",
       "\n",
       "    .dataframe tbody tr th {\n",
       "        vertical-align: top;\n",
       "    }\n",
       "\n",
       "    .dataframe thead th {\n",
       "        text-align: right;\n",
       "    }\n",
       "</style>\n",
       "<table border=\"1\" class=\"dataframe\">\n",
       "  <thead>\n",
       "    <tr style=\"text-align: right;\">\n",
       "      <th></th>\n",
       "      <th>Unnamed: 0</th>\n",
       "      <th>Date</th>\n",
       "      <th>text</th>\n",
       "      <th>Sentiment</th>\n",
       "    </tr>\n",
       "  </thead>\n",
       "  <tbody>\n",
       "    <tr>\n",
       "      <th>0</th>\n",
       "      <td>0</td>\n",
       "      <td>2019-05-27</td>\n",
       "      <td>I give 5 satoshis to everyone for free and w...</td>\n",
       "      <td>Positive</td>\n",
       "    </tr>\n",
       "    <tr>\n",
       "      <th>1</th>\n",
       "      <td>1</td>\n",
       "      <td>2019-05-27</td>\n",
       "      <td>Attention hit btc does scam with me and not ...</td>\n",
       "      <td>Positive</td>\n",
       "    </tr>\n",
       "    <tr>\n",
       "      <th>2</th>\n",
       "      <td>2</td>\n",
       "      <td>2019-05-27</td>\n",
       "      <td>BTC(ビットコイン)が95万円超えてますやん… https://t.co/uzXGkzKDcI</td>\n",
       "      <td>Positive</td>\n",
       "    </tr>\n",
       "    <tr>\n",
       "      <th>3</th>\n",
       "      <td>3</td>\n",
       "      <td>2019-05-27</td>\n",
       "      <td>Yep https://t.co/TrpbxApU3H</td>\n",
       "      <td>Positive</td>\n",
       "    </tr>\n",
       "    <tr>\n",
       "      <th>4</th>\n",
       "      <td>4</td>\n",
       "      <td>2019-05-27</td>\n",
       "      <td>We’ll miss you, but we won’t let our ideolog...</td>\n",
       "      <td>Positive</td>\n",
       "    </tr>\n",
       "  </tbody>\n",
       "</table>\n",
       "</div>"
      ],
      "text/plain": [
       "  Unnamed: 0        Date                                               text  \\\n",
       "0          0  2019-05-27    I give 5 satoshis to everyone for free and w...   \n",
       "1          1  2019-05-27    Attention hit btc does scam with me and not ...   \n",
       "2          2  2019-05-27   BTC(ビットコイン)が95万円超えてますやん… https://t.co/uzXGkzKDcI   \n",
       "3          3  2019-05-27                        Yep https://t.co/TrpbxApU3H   \n",
       "4          4  2019-05-27    We’ll miss you, but we won’t let our ideolog...   \n",
       "\n",
       "  Sentiment  \n",
       "0  Positive  \n",
       "1  Positive  \n",
       "2  Positive  \n",
       "3  Positive  \n",
       "4  Positive  "
      ]
     },
     "execution_count": 102,
     "metadata": {},
     "output_type": "execute_result"
    }
   ],
   "source": [
    "df_new.head()"
   ]
  },
  {
   "cell_type": "code",
   "execution_count": 103,
   "id": "a7517f9e",
   "metadata": {},
   "outputs": [],
   "source": [
    "df = df_new "
   ]
  },
  {
   "cell_type": "code",
   "execution_count": 104,
   "id": "84df8866",
   "metadata": {},
   "outputs": [
    {
     "data": {
      "text/html": [
       "<div>\n",
       "<style scoped>\n",
       "    .dataframe tbody tr th:only-of-type {\n",
       "        vertical-align: middle;\n",
       "    }\n",
       "\n",
       "    .dataframe tbody tr th {\n",
       "        vertical-align: top;\n",
       "    }\n",
       "\n",
       "    .dataframe thead th {\n",
       "        text-align: right;\n",
       "    }\n",
       "</style>\n",
       "<table border=\"1\" class=\"dataframe\">\n",
       "  <thead>\n",
       "    <tr style=\"text-align: right;\">\n",
       "      <th></th>\n",
       "      <th>Unnamed: 0</th>\n",
       "      <th>Date</th>\n",
       "      <th>text</th>\n",
       "      <th>Sentiment</th>\n",
       "    </tr>\n",
       "  </thead>\n",
       "  <tbody>\n",
       "    <tr>\n",
       "      <th>0</th>\n",
       "      <td>0</td>\n",
       "      <td>2019-05-27</td>\n",
       "      <td>I give 5 satoshis to everyone for free and w...</td>\n",
       "      <td>Positive</td>\n",
       "    </tr>\n",
       "    <tr>\n",
       "      <th>1</th>\n",
       "      <td>1</td>\n",
       "      <td>2019-05-27</td>\n",
       "      <td>Attention hit btc does scam with me and not ...</td>\n",
       "      <td>Positive</td>\n",
       "    </tr>\n",
       "    <tr>\n",
       "      <th>2</th>\n",
       "      <td>2</td>\n",
       "      <td>2019-05-27</td>\n",
       "      <td>BTC(ビットコイン)が95万円超えてますやん… https://t.co/uzXGkzKDcI</td>\n",
       "      <td>Positive</td>\n",
       "    </tr>\n",
       "    <tr>\n",
       "      <th>3</th>\n",
       "      <td>3</td>\n",
       "      <td>2019-05-27</td>\n",
       "      <td>Yep https://t.co/TrpbxApU3H</td>\n",
       "      <td>Positive</td>\n",
       "    </tr>\n",
       "    <tr>\n",
       "      <th>4</th>\n",
       "      <td>4</td>\n",
       "      <td>2019-05-27</td>\n",
       "      <td>We’ll miss you, but we won’t let our ideolog...</td>\n",
       "      <td>Positive</td>\n",
       "    </tr>\n",
       "    <tr>\n",
       "      <th>...</th>\n",
       "      <td>...</td>\n",
       "      <td>...</td>\n",
       "      <td>...</td>\n",
       "      <td>...</td>\n",
       "    </tr>\n",
       "    <tr>\n",
       "      <th>10001</th>\n",
       "      <td>9995</td>\n",
       "      <td>NaN</td>\n",
       "      <td>Yes - the term colored coin comes from the ...</td>\n",
       "      <td>Neutral</td>\n",
       "    </tr>\n",
       "    <tr>\n",
       "      <th>10002</th>\n",
       "      <td>9996</td>\n",
       "      <td>NaN</td>\n",
       "      <td>0 to 50% – Time to Pay Crypto Taxes in the Eur...</td>\n",
       "      <td>Neutral</td>\n",
       "    </tr>\n",
       "    <tr>\n",
       "      <th>10003</th>\n",
       "      <td>9997</td>\n",
       "      <td>NaN</td>\n",
       "      <td>RT  Chinese Exchange Bitasia Now Supports 0-Co...</td>\n",
       "      <td>Neutral</td>\n",
       "    </tr>\n",
       "    <tr>\n",
       "      <th>10004</th>\n",
       "      <td>9998</td>\n",
       "      <td>NaN</td>\n",
       "      <td>Nice💰 https://t.co/76hs0wzbXA</td>\n",
       "      <td>Neutral</td>\n",
       "    </tr>\n",
       "    <tr>\n",
       "      <th>10005</th>\n",
       "      <td>9999</td>\n",
       "      <td>NaN</td>\n",
       "      <td>Bitcoin Cash Price Technical Analysis – BCH/US...</td>\n",
       "      <td>Neutral</td>\n",
       "    </tr>\n",
       "  </tbody>\n",
       "</table>\n",
       "<p>10006 rows × 4 columns</p>\n",
       "</div>"
      ],
      "text/plain": [
       "      Unnamed: 0        Date  \\\n",
       "0              0  2019-05-27   \n",
       "1              1  2019-05-27   \n",
       "2              2  2019-05-27   \n",
       "3              3  2019-05-27   \n",
       "4              4  2019-05-27   \n",
       "...          ...         ...   \n",
       "10001       9995         NaN   \n",
       "10002       9996         NaN   \n",
       "10003       9997         NaN   \n",
       "10004       9998         NaN   \n",
       "10005       9999         NaN   \n",
       "\n",
       "                                                    text Sentiment  \n",
       "0        I give 5 satoshis to everyone for free and w...  Positive  \n",
       "1        Attention hit btc does scam with me and not ...  Positive  \n",
       "2       BTC(ビットコイン)が95万円超えてますやん… https://t.co/uzXGkzKDcI  Positive  \n",
       "3                            Yep https://t.co/TrpbxApU3H  Positive  \n",
       "4        We’ll miss you, but we won’t let our ideolog...  Positive  \n",
       "...                                                  ...       ...  \n",
       "10001     Yes - the term colored coin comes from the ...   Neutral  \n",
       "10002  0 to 50% – Time to Pay Crypto Taxes in the Eur...   Neutral  \n",
       "10003  RT  Chinese Exchange Bitasia Now Supports 0-Co...   Neutral  \n",
       "10004                      Nice💰 https://t.co/76hs0wzbXA   Neutral  \n",
       "10005  Bitcoin Cash Price Technical Analysis – BCH/US...   Neutral  \n",
       "\n",
       "[10006 rows x 4 columns]"
      ]
     },
     "execution_count": 104,
     "metadata": {},
     "output_type": "execute_result"
    }
   ],
   "source": [
    "df "
   ]
  },
  {
   "cell_type": "code",
   "execution_count": 121,
   "id": "81351eba",
   "metadata": {},
   "outputs": [],
   "source": [
    "# get lists of tweets and their sentiment labels \n",
    "tweets = df.text.values\n",
    "labels = df.Sentiment.values "
   ]
  },
  {
   "cell_type": "code",
   "execution_count": 122,
   "id": "f9819325",
   "metadata": {},
   "outputs": [
    {
     "name": "stdout",
     "output_type": "stream",
     "text": [
      "max sentence length:  235\n"
     ]
    }
   ],
   "source": [
    "max_len = 0 \n",
    "\n",
    "for i in range(len(tweets)):\n",
    "    # tokenize the text and add `[CLS]` and `[SEP]` tokens \n",
    "    input_ids = tokenizer.encode(str(tweets[i]), add_special_tokens=True)\n",
    "    \n",
    "    #update max sentence length\n",
    "    max_len = max(max_len, len(input_ids))\n",
    "    \n",
    "print('max sentence length: ', max_len)"
   ]
  },
  {
   "cell_type": "code",
   "execution_count": 124,
   "id": "86bb16fc",
   "metadata": {},
   "outputs": [
    {
     "ename": "TypeError",
     "evalue": "can't convert np.ndarray of type numpy.object_. The only supported types are: float64, float32, float16, complex64, complex128, int64, int32, int16, int8, uint8, and bool.",
     "output_type": "error",
     "traceback": [
      "\u001b[0;31m---------------------------------------------------------------------------\u001b[0m",
      "\u001b[0;31mTypeError\u001b[0m                                 Traceback (most recent call last)",
      "\u001b[0;32m/tmp/ipykernel_13786/4160331754.py\u001b[0m in \u001b[0;36m<module>\u001b[0;34m\u001b[0m\n\u001b[1;32m     25\u001b[0m \u001b[0minput_ids\u001b[0m \u001b[0;34m=\u001b[0m \u001b[0mtorch\u001b[0m\u001b[0;34m.\u001b[0m\u001b[0mcat\u001b[0m\u001b[0;34m(\u001b[0m\u001b[0minput_ids\u001b[0m\u001b[0;34m,\u001b[0m \u001b[0mdim\u001b[0m\u001b[0;34m=\u001b[0m\u001b[0;36m0\u001b[0m\u001b[0;34m)\u001b[0m\u001b[0;34m\u001b[0m\u001b[0;34m\u001b[0m\u001b[0m\n\u001b[1;32m     26\u001b[0m \u001b[0mattention_masks\u001b[0m \u001b[0;34m=\u001b[0m \u001b[0mtorch\u001b[0m\u001b[0;34m.\u001b[0m\u001b[0mcat\u001b[0m\u001b[0;34m(\u001b[0m\u001b[0mattention_masks\u001b[0m\u001b[0;34m,\u001b[0m \u001b[0mdim\u001b[0m\u001b[0;34m=\u001b[0m\u001b[0;36m0\u001b[0m\u001b[0;34m)\u001b[0m\u001b[0;34m\u001b[0m\u001b[0;34m\u001b[0m\u001b[0m\n\u001b[0;32m---> 27\u001b[0;31m \u001b[0mlabels\u001b[0m \u001b[0;34m=\u001b[0m \u001b[0mtorch\u001b[0m\u001b[0;34m.\u001b[0m\u001b[0mtensor\u001b[0m\u001b[0;34m(\u001b[0m\u001b[0mlabels\u001b[0m\u001b[0;34m)\u001b[0m\u001b[0;34m\u001b[0m\u001b[0;34m\u001b[0m\u001b[0m\n\u001b[0m\u001b[1;32m     28\u001b[0m \u001b[0;34m\u001b[0m\u001b[0m\n\u001b[1;32m     29\u001b[0m \u001b[0;31m# Print sentence 0, now as a list of IDs.\u001b[0m\u001b[0;34m\u001b[0m\u001b[0;34m\u001b[0m\u001b[0m\n",
      "\u001b[0;31mTypeError\u001b[0m: can't convert np.ndarray of type numpy.object_. The only supported types are: float64, float32, float16, complex64, complex128, int64, int32, int16, int8, uint8, and bool."
     ]
    }
   ],
   "source": [
    "# we will set max_len to 235 \n",
    "# now we can perform tokenization \n",
    "input_ids = [] \n",
    "attention_masks = [] \n",
    "\n",
    "for i in range(len(tweets)):\n",
    "    # we call 'encode_plus' which will \n",
    "    # (1) tokenize the sentence \n",
    "    # (2) prepend `[CLS]` and append `[SEP]`\n",
    "    # (3) map tokens to their ids \n",
    "    # (4) pad or truncate the sentence to 'max_length'\n",
    "    # (5) create attention masks for `[PAD]` tokens \n",
    "    encoded_dict = tokenizer.encode_plus(str(tweets[i]), add_special_tokens=True,\n",
    "                                        max_length=100,\n",
    "                                        pad_to_max_length=True,\n",
    "                                        return_attention_mask=True,\n",
    "                                        return_tensors='pt')\n",
    "    # adds encoded sentence to the list \n",
    "    input_ids.append(encoded_dict['input_ids'])\n",
    "    \n",
    "    # add the attention mask\n",
    "    attention_masks.append(encoded_dict['attention_mask'])\n",
    "    \n",
    "# Convert the lists into tensors.\n",
    "input_ids = torch.cat(input_ids, dim=0)\n",
    "attention_masks = torch.cat(attention_masks, dim=0)\n",
    "labels = torch.tensor(labels)\n",
    "\n",
    "# Print sentence 0, now as a list of IDs.\n",
    "print('Original: ', sentences[0])\n",
    "print('Token IDs:', input_ids[0])"
   ]
  },
  {
   "cell_type": "code",
   "execution_count": null,
   "id": "8096556f",
   "metadata": {},
   "outputs": [],
   "source": []
  }
 ],
 "metadata": {
  "kernelspec": {
   "display_name": "Python 3 (ipykernel)",
   "language": "python",
   "name": "python3"
  },
  "language_info": {
   "codemirror_mode": {
    "name": "ipython",
    "version": 3
   },
   "file_extension": ".py",
   "mimetype": "text/x-python",
   "name": "python",
   "nbconvert_exporter": "python",
   "pygments_lexer": "ipython3",
   "version": "3.9.7"
  }
 },
 "nbformat": 4,
 "nbformat_minor": 5
}
