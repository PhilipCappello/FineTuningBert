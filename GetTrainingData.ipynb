{
 "cells": [
  {
   "cell_type": "code",
   "execution_count": 1,
   "id": "49137755",
   "metadata": {},
   "outputs": [
    {
     "name": "stdout",
     "output_type": "stream",
     "text": [
      "Requirement already satisfied: langdetect in /home/phil81/anaconda3/envs/tf-gpu/lib/python3.9/site-packages (1.0.9)\r\n",
      "Requirement already satisfied: six in /home/phil81/anaconda3/envs/tf-gpu/lib/python3.9/site-packages (from langdetect) (1.16.0)\r\n"
     ]
    }
   ],
   "source": [
    "import pandas as pd \n",
    "import seaborn as sns\n",
    "import numpy as np \n",
    "import matplotlib.pyplot as plt\n",
    "! pip install langdetect\n",
    "from langdetect import detect "
   ]
  },
  {
   "cell_type": "code",
   "execution_count": 2,
   "id": "b52418c5",
   "metadata": {},
   "outputs": [],
   "source": [
    "df = pd.read_csv('CSVFiles/training-data-positive-and-negative-sentiment-english.csv')"
   ]
  },
  {
   "cell_type": "code",
   "execution_count": 3,
   "id": "1712e3b3",
   "metadata": {},
   "outputs": [
    {
     "data": {
      "text/html": [
       "<div>\n",
       "<style scoped>\n",
       "    .dataframe tbody tr th:only-of-type {\n",
       "        vertical-align: middle;\n",
       "    }\n",
       "\n",
       "    .dataframe tbody tr th {\n",
       "        vertical-align: top;\n",
       "    }\n",
       "\n",
       "    .dataframe thead th {\n",
       "        text-align: right;\n",
       "    }\n",
       "</style>\n",
       "<table border=\"1\" class=\"dataframe\">\n",
       "  <thead>\n",
       "    <tr style=\"text-align: right;\">\n",
       "      <th></th>\n",
       "      <th>Date</th>\n",
       "      <th>text</th>\n",
       "      <th>Sentiment</th>\n",
       "    </tr>\n",
       "  </thead>\n",
       "  <tbody>\n",
       "    <tr>\n",
       "      <th>0</th>\n",
       "      <td>2019-05-27</td>\n",
       "      <td>È appena uscito un nuovo video! LES CRYPTOMONN...</td>\n",
       "      <td>Positive</td>\n",
       "    </tr>\n",
       "    <tr>\n",
       "      <th>1</th>\n",
       "      <td>2019-05-27</td>\n",
       "      <td>Cardano: Digitize Currencies; EOS https://t.co...</td>\n",
       "      <td>Positive</td>\n",
       "    </tr>\n",
       "    <tr>\n",
       "      <th>2</th>\n",
       "      <td>2019-05-27</td>\n",
       "      <td>Another Test tweet that wasn't caught in the s...</td>\n",
       "      <td>Positive</td>\n",
       "    </tr>\n",
       "    <tr>\n",
       "      <th>3</th>\n",
       "      <td>2019-05-27</td>\n",
       "      <td>Current Crypto Prices! \\n\\nBTC: $8721.99 USD\\n...</td>\n",
       "      <td>Positive</td>\n",
       "    </tr>\n",
       "    <tr>\n",
       "      <th>4</th>\n",
       "      <td>2019-05-27</td>\n",
       "      <td>Spiv (Nosar Baz): BITCOIN Is An Asset &amp;amp; NO...</td>\n",
       "      <td>Positive</td>\n",
       "    </tr>\n",
       "  </tbody>\n",
       "</table>\n",
       "</div>"
      ],
      "text/plain": [
       "         Date                                               text Sentiment\n",
       "0  2019-05-27  È appena uscito un nuovo video! LES CRYPTOMONN...  Positive\n",
       "1  2019-05-27  Cardano: Digitize Currencies; EOS https://t.co...  Positive\n",
       "2  2019-05-27  Another Test tweet that wasn't caught in the s...  Positive\n",
       "3  2019-05-27  Current Crypto Prices! \\n\\nBTC: $8721.99 USD\\n...  Positive\n",
       "4  2019-05-27  Spiv (Nosar Baz): BITCOIN Is An Asset &amp; NO...  Positive"
      ]
     },
     "execution_count": 3,
     "metadata": {},
     "output_type": "execute_result"
    }
   ],
   "source": [
    "df = df.drop('Unnamed: 0',axis=1)\n",
    "df.head()"
   ]
  },
  {
   "cell_type": "code",
   "execution_count": 4,
   "id": "7a6b4b13",
   "metadata": {},
   "outputs": [],
   "source": [
    "# for row, index in df['text'].iteritems():\n",
    "#     try:\n",
    "#         lang = detect(str(row))\n",
    "#         if lang == \"en\":\n",
    "#             df = df.drop(row)\n",
    "#     except:\n",
    "#         df = df.drop(row)"
   ]
  },
  {
   "cell_type": "code",
   "execution_count": 5,
   "id": "1b20b0a5",
   "metadata": {},
   "outputs": [
    {
     "name": "stdout",
     "output_type": "stream",
     "text": [
      "<class 'pandas.core.frame.DataFrame'>\n",
      "RangeIndex: 59500 entries, 0 to 59499\n",
      "Data columns (total 3 columns):\n",
      " #   Column     Non-Null Count  Dtype \n",
      "---  ------     --------------  ----- \n",
      " 0   Date       59500 non-null  object\n",
      " 1   text       59500 non-null  object\n",
      " 2   Sentiment  59500 non-null  object\n",
      "dtypes: object(3)\n",
      "memory usage: 1.4+ MB\n"
     ]
    }
   ],
   "source": [
    "df.info()"
   ]
  },
  {
   "cell_type": "code",
   "execution_count": 6,
   "id": "2382e0a5",
   "metadata": {},
   "outputs": [
    {
     "data": {
      "text/plain": [
       "Text(0.5, 0, 'Sentiment Score')"
      ]
     },
     "execution_count": 6,
     "metadata": {},
     "output_type": "execute_result"
    },
    {
     "data": {
      "image/png": "[encoded data removed]",
      "text/plain": [
       "<Figure size 432x288 with 1 Axes>"
      ]
     },
     "metadata": {
      "needs_background": "light"
     },
     "output_type": "display_data"
    }
   ],
   "source": [
    "sns.countplot(x=df.Sentiment)\n",
    "plt.xlabel('Sentiment Score')\n",
    "# df = df.sample(n=10000, ignore_index=True)\n",
    "# df.to_csv('CSVFiles/training-data-positive-negative.csv')"
   ]
  },
  {
   "cell_type": "code",
   "execution_count": 7,
   "id": "91a85969",
   "metadata": {},
   "outputs": [
    {
     "data": {
      "text/plain": [
       "<bound method DataFrame.info of        Fri Mar 23 00:40:32 +0000 2018  \\\n",
       "0      Fri Mar 23 00:40:34 +0000 2018   \n",
       "1      Fri Mar 23 00:40:35 +0000 2018   \n",
       "2      Fri Mar 23 00:40:36 +0000 2018   \n",
       "3      Fri Mar 23 00:40:36 +0000 2018   \n",
       "4      Fri Mar 23 00:40:36 +0000 2018   \n",
       "...                               ...   \n",
       "50853  Fri Mar 23 08:55:16 +0000 2018   \n",
       "50854  Fri Mar 23 08:55:17 +0000 2018   \n",
       "50855  Fri Mar 23 08:55:18 +0000 2018   \n",
       "50856  Fri Mar 23 08:55:19 +0000 2018   \n",
       "50857  Fri Mar 23 08:55:19 +0000 2018   \n",
       "\n",
       "                                                    text   myresumerocket  \\\n",
       "0      @lopp @_Kevin_Pham @psycho_sage @naval But @Pr...         BitMocro   \n",
       "1      RT @tippereconomy: Another use case for #block...     hojachotopur   \n",
       "2                     free coins https://t.co/DiuoePJdap    denies_distro   \n",
       "3      RT @payvxofficial: WE are happy to announce th...       aditzgraha   \n",
       "4      Copy successful traders automatically with Bit...  VictorS61164810   \n",
       "...                                                  ...              ...   \n",
       "50853  RT @fixy_app: Fixy Network brings popular cryp...    quoting_lives   \n",
       "50854  RT @bethereumteam: After a successful launch o...       VariPewitt   \n",
       "50855  RT @GymRewards: Buy #GYMRewards Tokens, Bonus ...     urbancoinerz   \n",
       "50856  I added a video to a @YouTube playlist https:/...   MRDanishShahab   \n",
       "50857  RT @Raybambs: Airdrop PhotoCoin Airdrop Round#...        Azriel020   \n",
       "\n",
       "       16522  0                                                 []  \\\n",
       "0       1295  0                                       [u'Bitcoin']   \n",
       "1       6090  0       [u'blockchain', u'Tipper', u'TipperEconomy']   \n",
       "2       2626  0                                                 []   \n",
       "3        184  0                                                 []   \n",
       "4         14  0                                                 []   \n",
       "...      ... ..                                                ...   \n",
       "50853   5673  0                                                 []   \n",
       "50854    372  0                                                 []   \n",
       "50855    557  0  [u'GYMRewards', u'ICO', u'cryptocurrency', u'm...   \n",
       "50856      3  0                                                 []   \n",
       "50857   1271  0                                     [u'PhotoCoin']   \n",
       "\n",
       "      <a href=\"http://twitter.com\" rel=\"nofollow\">Twitter Web Client</a>  \\\n",
       "0      <a href=\"http://twitter.com/download/android\" ...                   \n",
       "1      <a href=\"http://twitter.com\" rel=\"nofollow\">Tw...                   \n",
       "2      <a href=\"http://twitter.com\" rel=\"nofollow\">Tw...                   \n",
       "3      <a href=\"http://twitter.com/download/android\" ...                   \n",
       "4      <a href=\"http://twitter.com\" rel=\"nofollow\">Tw...                   \n",
       "...                                                  ...                   \n",
       "50853  <a href=\"http://twitter.com\" rel=\"nofollow\">Tw...                   \n",
       "50854  <a href=\"http://twitter.com\" rel=\"nofollow\">Tw...                   \n",
       "50855  <a href=\"http://twitter.com\" rel=\"nofollow\">Tw...                   \n",
       "50856  <a href=\"http://www.google.com/\" rel=\"nofollow...                   \n",
       "50857  <a href=\"http://twitter.com/download/android\" ...                   \n",
       "\n",
       "          Sentiment  \n",
       "0       ['neutral']  \n",
       "1      ['positive']  \n",
       "2      ['positive']  \n",
       "3      ['positive']  \n",
       "4      ['positive']  \n",
       "...             ...  \n",
       "50853  ['positive']  \n",
       "50854  ['positive']  \n",
       "50855   ['neutral']  \n",
       "50856  ['positive']  \n",
       "50857  ['positive']  \n",
       "\n",
       "[50858 rows x 8 columns]>"
      ]
     },
     "execution_count": 7,
     "metadata": {},
     "output_type": "execute_result"
    }
   ],
   "source": [
    "# since there are no neutral tweets in our training data, we got some from Kaggle \n",
    "df1 = pd.read_csv('CSVFiles/bitcointweets.csv')\n",
    "df1.info"
   ]
  },
  {
   "cell_type": "code",
   "execution_count": 8,
   "id": "12827275",
   "metadata": {},
   "outputs": [
    {
     "data": {
      "text/html": [
       "<div>\n",
       "<style scoped>\n",
       "    .dataframe tbody tr th:only-of-type {\n",
       "        vertical-align: middle;\n",
       "    }\n",
       "\n",
       "    .dataframe tbody tr th {\n",
       "        vertical-align: top;\n",
       "    }\n",
       "\n",
       "    .dataframe thead th {\n",
       "        text-align: right;\n",
       "    }\n",
       "</style>\n",
       "<table border=\"1\" class=\"dataframe\">\n",
       "  <thead>\n",
       "    <tr style=\"text-align: right;\">\n",
       "      <th></th>\n",
       "      <th>text</th>\n",
       "      <th>Sentiment</th>\n",
       "    </tr>\n",
       "  </thead>\n",
       "  <tbody>\n",
       "    <tr>\n",
       "      <th>0</th>\n",
       "      <td>RT @tippereconomy: Another use case for #block...</td>\n",
       "      <td>['positive']</td>\n",
       "    </tr>\n",
       "    <tr>\n",
       "      <th>1</th>\n",
       "      <td>free coins https://t.co/DiuoePJdap</td>\n",
       "      <td>['positive']</td>\n",
       "    </tr>\n",
       "    <tr>\n",
       "      <th>2</th>\n",
       "      <td>RT @payvxofficial: WE are happy to announce th...</td>\n",
       "      <td>['positive']</td>\n",
       "    </tr>\n",
       "    <tr>\n",
       "      <th>3</th>\n",
       "      <td>Copy successful traders automatically with Bit...</td>\n",
       "      <td>['positive']</td>\n",
       "    </tr>\n",
       "    <tr>\n",
       "      <th>4</th>\n",
       "      <td>RT @bethereumteam: We're revealing our surpris...</td>\n",
       "      <td>['positive']</td>\n",
       "    </tr>\n",
       "    <tr>\n",
       "      <th>...</th>\n",
       "      <td>...</td>\n",
       "      <td>...</td>\n",
       "    </tr>\n",
       "    <tr>\n",
       "      <th>28915</th>\n",
       "      <td>RT @coindesk: Coinbase Is In Talks to Buy One ...</td>\n",
       "      <td>['positive']</td>\n",
       "    </tr>\n",
       "    <tr>\n",
       "      <th>28916</th>\n",
       "      <td>RT @fixy_app: Fixy Network brings popular cryp...</td>\n",
       "      <td>['positive']</td>\n",
       "    </tr>\n",
       "    <tr>\n",
       "      <th>28917</th>\n",
       "      <td>RT @bethereumteam: After a successful launch o...</td>\n",
       "      <td>['positive']</td>\n",
       "    </tr>\n",
       "    <tr>\n",
       "      <th>28918</th>\n",
       "      <td>I added a video to a @YouTube playlist https:/...</td>\n",
       "      <td>['positive']</td>\n",
       "    </tr>\n",
       "    <tr>\n",
       "      <th>28919</th>\n",
       "      <td>RT @Raybambs: Airdrop PhotoCoin Airdrop Round#...</td>\n",
       "      <td>['positive']</td>\n",
       "    </tr>\n",
       "  </tbody>\n",
       "</table>\n",
       "<p>28920 rows × 2 columns</p>\n",
       "</div>"
      ],
      "text/plain": [
       "                                                    text     Sentiment\n",
       "0      RT @tippereconomy: Another use case for #block...  ['positive']\n",
       "1                     free coins https://t.co/DiuoePJdap  ['positive']\n",
       "2      RT @payvxofficial: WE are happy to announce th...  ['positive']\n",
       "3      Copy successful traders automatically with Bit...  ['positive']\n",
       "4      RT @bethereumteam: We're revealing our surpris...  ['positive']\n",
       "...                                                  ...           ...\n",
       "28915  RT @coindesk: Coinbase Is In Talks to Buy One ...  ['positive']\n",
       "28916  RT @fixy_app: Fixy Network brings popular cryp...  ['positive']\n",
       "28917  RT @bethereumteam: After a successful launch o...  ['positive']\n",
       "28918  I added a video to a @YouTube playlist https:/...  ['positive']\n",
       "28919  RT @Raybambs: Airdrop PhotoCoin Airdrop Round#...  ['positive']\n",
       "\n",
       "[28920 rows x 2 columns]"
      ]
     },
     "execution_count": 8,
     "metadata": {},
     "output_type": "execute_result"
    }
   ],
   "source": [
    "df1 = df1.iloc[:,[1,7]]\n",
    "df1 = df1.loc[(df1[\"Sentiment\"]==\"['positive']\") | (df1[\"Sentiment\"]==\"['negative']\")]\n",
    "df1.reset_index(drop=True)"
   ]
  },
  {
   "cell_type": "code",
   "execution_count": 9,
   "id": "b2434666",
   "metadata": {},
   "outputs": [],
   "source": [
    "df1=df1.assign(Sentiment='Neutral')"
   ]
  },
  {
   "cell_type": "code",
   "execution_count": 10,
   "id": "df14e42b",
   "metadata": {},
   "outputs": [
    {
     "data": {
      "text/html": [
       "<div>\n",
       "<style scoped>\n",
       "    .dataframe tbody tr th:only-of-type {\n",
       "        vertical-align: middle;\n",
       "    }\n",
       "\n",
       "    .dataframe tbody tr th {\n",
       "        vertical-align: top;\n",
       "    }\n",
       "\n",
       "    .dataframe thead th {\n",
       "        text-align: right;\n",
       "    }\n",
       "</style>\n",
       "<table border=\"1\" class=\"dataframe\">\n",
       "  <thead>\n",
       "    <tr style=\"text-align: right;\">\n",
       "      <th></th>\n",
       "      <th>text</th>\n",
       "      <th>Sentiment</th>\n",
       "    </tr>\n",
       "  </thead>\n",
       "  <tbody>\n",
       "    <tr>\n",
       "      <th>50851</th>\n",
       "      <td>RT @coindesk: Coinbase Is In Talks to Buy One ...</td>\n",
       "      <td>Neutral</td>\n",
       "    </tr>\n",
       "    <tr>\n",
       "      <th>50853</th>\n",
       "      <td>RT @fixy_app: Fixy Network brings popular cryp...</td>\n",
       "      <td>Neutral</td>\n",
       "    </tr>\n",
       "    <tr>\n",
       "      <th>50854</th>\n",
       "      <td>RT @bethereumteam: After a successful launch o...</td>\n",
       "      <td>Neutral</td>\n",
       "    </tr>\n",
       "    <tr>\n",
       "      <th>50856</th>\n",
       "      <td>I added a video to a @YouTube playlist https:/...</td>\n",
       "      <td>Neutral</td>\n",
       "    </tr>\n",
       "    <tr>\n",
       "      <th>50857</th>\n",
       "      <td>RT @Raybambs: Airdrop PhotoCoin Airdrop Round#...</td>\n",
       "      <td>Neutral</td>\n",
       "    </tr>\n",
       "  </tbody>\n",
       "</table>\n",
       "</div>"
      ],
      "text/plain": [
       "                                                    text Sentiment\n",
       "50851  RT @coindesk: Coinbase Is In Talks to Buy One ...   Neutral\n",
       "50853  RT @fixy_app: Fixy Network brings popular cryp...   Neutral\n",
       "50854  RT @bethereumteam: After a successful launch o...   Neutral\n",
       "50856  I added a video to a @YouTube playlist https:/...   Neutral\n",
       "50857  RT @Raybambs: Airdrop PhotoCoin Airdrop Round#...   Neutral"
      ]
     },
     "execution_count": 10,
     "metadata": {},
     "output_type": "execute_result"
    }
   ],
   "source": [
    "df1.tail()"
   ]
  },
  {
   "cell_type": "code",
   "execution_count": 11,
   "id": "7cd04855",
   "metadata": {},
   "outputs": [],
   "source": [
    "df = pd.concat([df,df1], ignore_index=True)"
   ]
  },
  {
   "cell_type": "code",
   "execution_count": 12,
   "id": "eeca513c",
   "metadata": {},
   "outputs": [
    {
     "data": {
      "text/plain": [
       "Text(0.5, 0, 'Sentiment Score')"
      ]
     },
     "execution_count": 12,
     "metadata": {},
     "output_type": "execute_result"
    },
    {
     "data": {
      "image/png": "[encoded data removed]",
      "text/plain": [
       "<Figure size 432x288 with 1 Axes>"
      ]
     },
     "metadata": {
      "needs_background": "light"
     },
     "output_type": "display_data"
    }
   ],
   "source": [
    "sns.countplot(x=df.Sentiment)\n",
    "plt.xlabel('Sentiment Score')"
   ]
  },
  {
   "cell_type": "code",
   "execution_count": 13,
   "id": "cd688177",
   "metadata": {},
   "outputs": [
    {
     "data": {
      "text/html": [
       "<div>\n",
       "<style scoped>\n",
       "    .dataframe tbody tr th:only-of-type {\n",
       "        vertical-align: middle;\n",
       "    }\n",
       "\n",
       "    .dataframe tbody tr th {\n",
       "        vertical-align: top;\n",
       "    }\n",
       "\n",
       "    .dataframe thead th {\n",
       "        text-align: right;\n",
       "    }\n",
       "</style>\n",
       "<table border=\"1\" class=\"dataframe\">\n",
       "  <thead>\n",
       "    <tr style=\"text-align: right;\">\n",
       "      <th></th>\n",
       "      <th>Date</th>\n",
       "      <th>text</th>\n",
       "      <th>Sentiment</th>\n",
       "    </tr>\n",
       "  </thead>\n",
       "  <tbody>\n",
       "    <tr>\n",
       "      <th>88415</th>\n",
       "      <td>NaN</td>\n",
       "      <td>RT @coindesk: Coinbase Is In Talks to Buy One ...</td>\n",
       "      <td>Neutral</td>\n",
       "    </tr>\n",
       "    <tr>\n",
       "      <th>88416</th>\n",
       "      <td>NaN</td>\n",
       "      <td>RT @fixy_app: Fixy Network brings popular cryp...</td>\n",
       "      <td>Neutral</td>\n",
       "    </tr>\n",
       "    <tr>\n",
       "      <th>88417</th>\n",
       "      <td>NaN</td>\n",
       "      <td>RT @bethereumteam: After a successful launch o...</td>\n",
       "      <td>Neutral</td>\n",
       "    </tr>\n",
       "    <tr>\n",
       "      <th>88418</th>\n",
       "      <td>NaN</td>\n",
       "      <td>I added a video to a @YouTube playlist https:/...</td>\n",
       "      <td>Neutral</td>\n",
       "    </tr>\n",
       "    <tr>\n",
       "      <th>88419</th>\n",
       "      <td>NaN</td>\n",
       "      <td>RT @Raybambs: Airdrop PhotoCoin Airdrop Round#...</td>\n",
       "      <td>Neutral</td>\n",
       "    </tr>\n",
       "  </tbody>\n",
       "</table>\n",
       "</div>"
      ],
      "text/plain": [
       "      Date                                               text Sentiment\n",
       "88415  NaN  RT @coindesk: Coinbase Is In Talks to Buy One ...   Neutral\n",
       "88416  NaN  RT @fixy_app: Fixy Network brings popular cryp...   Neutral\n",
       "88417  NaN  RT @bethereumteam: After a successful launch o...   Neutral\n",
       "88418  NaN  I added a video to a @YouTube playlist https:/...   Neutral\n",
       "88419  NaN  RT @Raybambs: Airdrop PhotoCoin Airdrop Round#...   Neutral"
      ]
     },
     "execution_count": 13,
     "metadata": {},
     "output_type": "execute_result"
    }
   ],
   "source": [
    "df.tail()"
   ]
  },
  {
   "cell_type": "code",
   "execution_count": 14,
   "id": "e9b634bb",
   "metadata": {},
   "outputs": [
    {
     "data": {
      "text/plain": [
       "29741"
      ]
     },
     "execution_count": 14,
     "metadata": {},
     "output_type": "execute_result"
    }
   ],
   "source": [
    "df[df['Sentiment']=='Positive'].count().Sentiment"
   ]
  },
  {
   "cell_type": "code",
   "execution_count": 15,
   "id": "33e69f42",
   "metadata": {},
   "outputs": [
    {
     "data": {
      "text/plain": [
       "29759"
      ]
     },
     "execution_count": 15,
     "metadata": {},
     "output_type": "execute_result"
    }
   ],
   "source": [
    "df[df['Sentiment']=='Negative'].count().Sentiment"
   ]
  },
  {
   "cell_type": "code",
   "execution_count": 16,
   "id": "28358646",
   "metadata": {},
   "outputs": [
    {
     "data": {
      "text/plain": [
       "28920"
      ]
     },
     "execution_count": 16,
     "metadata": {},
     "output_type": "execute_result"
    }
   ],
   "source": [
    "df[df['Sentiment']=='Neutral'].count().Sentiment"
   ]
  },
  {
   "cell_type": "code",
   "execution_count": 17,
   "id": "90993a47",
   "metadata": {},
   "outputs": [],
   "source": [
    "dfpos = df[df['Sentiment']=='Positive']\n",
    "dfneg = df[df['Sentiment']=='Negative']\n",
    "dfneu = df[df['Sentiment']=='Neutral']"
   ]
  },
  {
   "cell_type": "code",
   "execution_count": 18,
   "id": "bd3e74fd",
   "metadata": {},
   "outputs": [],
   "source": [
    "# now select 10,000 tweets with positive/negative/neutral ratio of 36/36/28 \n",
    "dfpos = dfpos.sample(n=3600, ignore_index=True)\n",
    "dfneg = dfneg.sample(n=3600, ignore_index=True)\n",
    "dfneu = dfneu.sample(n=2800, ignore_index=True)"
   ]
  },
  {
   "cell_type": "code",
   "execution_count": 19,
   "id": "d6e98936",
   "metadata": {},
   "outputs": [
    {
     "data": {
      "text/html": [
       "<div>\n",
       "<style scoped>\n",
       "    .dataframe tbody tr th:only-of-type {\n",
       "        vertical-align: middle;\n",
       "    }\n",
       "\n",
       "    .dataframe tbody tr th {\n",
       "        vertical-align: top;\n",
       "    }\n",
       "\n",
       "    .dataframe thead th {\n",
       "        text-align: right;\n",
       "    }\n",
       "</style>\n",
       "<table border=\"1\" class=\"dataframe\">\n",
       "  <thead>\n",
       "    <tr style=\"text-align: right;\">\n",
       "      <th></th>\n",
       "      <th>Date</th>\n",
       "      <th>text</th>\n",
       "      <th>Sentiment</th>\n",
       "    </tr>\n",
       "  </thead>\n",
       "  <tbody>\n",
       "    <tr>\n",
       "      <th>9995</th>\n",
       "      <td>NaN</td>\n",
       "      <td>Copy successful traders automatically with Bit...</td>\n",
       "      <td>Neutral</td>\n",
       "    </tr>\n",
       "    <tr>\n",
       "      <th>9996</th>\n",
       "      <td>NaN</td>\n",
       "      <td>join this best airdrop \\n(https://t.co/41hmY7I...</td>\n",
       "      <td>Neutral</td>\n",
       "    </tr>\n",
       "    <tr>\n",
       "      <th>9997</th>\n",
       "      <td>NaN</td>\n",
       "      <td>RT @RandolphMlny: #Bitcoin #Satoshi #crypto #b...</td>\n",
       "      <td>Neutral</td>\n",
       "    </tr>\n",
       "    <tr>\n",
       "      <th>9998</th>\n",
       "      <td>NaN</td>\n",
       "      <td>RT @stephanlivera: To understand bitcoin, you ...</td>\n",
       "      <td>Neutral</td>\n",
       "    </tr>\n",
       "    <tr>\n",
       "      <th>9999</th>\n",
       "      <td>NaN</td>\n",
       "      <td>first speaker @Satoshis_Vision @digitsu\\n\\n\"wh...</td>\n",
       "      <td>Neutral</td>\n",
       "    </tr>\n",
       "  </tbody>\n",
       "</table>\n",
       "</div>"
      ],
      "text/plain": [
       "     Date                                               text Sentiment\n",
       "9995  NaN  Copy successful traders automatically with Bit...   Neutral\n",
       "9996  NaN  join this best airdrop \\n(https://t.co/41hmY7I...   Neutral\n",
       "9997  NaN  RT @RandolphMlny: #Bitcoin #Satoshi #crypto #b...   Neutral\n",
       "9998  NaN  RT @stephanlivera: To understand bitcoin, you ...   Neutral\n",
       "9999  NaN  first speaker @Satoshis_Vision @digitsu\\n\\n\"wh...   Neutral"
      ]
     },
     "execution_count": 19,
     "metadata": {},
     "output_type": "execute_result"
    }
   ],
   "source": [
    "df = pd.concat([dfpos, dfneg, dfneu], ignore_index=True)\n",
    "df.tail()"
   ]
  },
  {
   "cell_type": "code",
   "execution_count": 20,
   "id": "8a268dca",
   "metadata": {},
   "outputs": [],
   "source": [
    "df.to_csv('CSVFiles/training-data.csv')"
   ]
  },
  {
   "cell_type": "code",
   "execution_count": null,
   "id": "79444b3b",
   "metadata": {},
   "outputs": [],
   "source": []
  }
 ],
 "metadata": {
  "kernelspec": {
   "display_name": "Python 3 (ipykernel)",
   "language": "python",
   "name": "python3"
  },
  "language_info": {
   "codemirror_mode": {
    "name": "ipython",
    "version": 3
   },
   "file_extension": ".py",
   "mimetype": "text/x-python",
   "name": "python",
   "nbconvert_exporter": "python",
   "pygments_lexer": "ipython3",
   "version": "3.9.7"
  }
 },
 "nbformat": 4,
 "nbformat_minor": 5
}
