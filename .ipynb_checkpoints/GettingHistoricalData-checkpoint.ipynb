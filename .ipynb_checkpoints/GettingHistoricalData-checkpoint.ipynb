{
 "cells": [
  {
   "cell_type": "code",
   "execution_count": 1,
   "id": "432b8074",
   "metadata": {},
   "outputs": [
    {
     "name": "stderr",
     "output_type": "stream",
     "text": [
      "2022-04-14 10:07:00.521629: I tensorflow/stream_executor/platform/default/dso_loader.cc:49] Successfully opened dynamic library libcudart.so.10.1\n"
     ]
    },
    {
     "name": "stdout",
     "output_type": "stream",
     "text": [
      "Found GPU at: /device:GPU:0\n"
     ]
    },
    {
     "name": "stderr",
     "output_type": "stream",
     "text": [
      "2022-04-14 10:07:03.501232: I tensorflow/core/platform/cpu_feature_guard.cc:142] This TensorFlow binary is optimized with oneAPI Deep Neural Network Library (oneDNN) to use the following CPU instructions in performance-critical operations:  SSE4.1 SSE4.2 AVX AVX2 FMA\n",
      "To enable them in other operations, rebuild TensorFlow with the appropriate compiler flags.\n",
      "2022-04-14 10:07:03.515832: I tensorflow/stream_executor/platform/default/dso_loader.cc:49] Successfully opened dynamic library libcuda.so.1\n",
      "2022-04-14 10:07:03.601263: I tensorflow/stream_executor/cuda/cuda_gpu_executor.cc:941] successful NUMA node read from SysFS had negative value (-1), but there must be at least one NUMA node, so returning NUMA node zero\n",
      "2022-04-14 10:07:03.601832: I tensorflow/core/common_runtime/gpu/gpu_device.cc:1720] Found device 0 with properties: \n",
      "pciBusID: 0000:01:00.0 name: NVIDIA GeForce GTX 1070 computeCapability: 6.1\n",
      "coreClock: 1.7845GHz coreCount: 15 deviceMemorySize: 7.93GiB deviceMemoryBandwidth: 238.66GiB/s\n",
      "2022-04-14 10:07:03.601892: I tensorflow/stream_executor/platform/default/dso_loader.cc:49] Successfully opened dynamic library libcudart.so.10.1\n",
      "2022-04-14 10:07:03.671297: I tensorflow/stream_executor/platform/default/dso_loader.cc:49] Successfully opened dynamic library libcublas.so.10\n",
      "2022-04-14 10:07:03.671460: I tensorflow/stream_executor/platform/default/dso_loader.cc:49] Successfully opened dynamic library libcublasLt.so.10\n",
      "2022-04-14 10:07:03.709486: I tensorflow/stream_executor/platform/default/dso_loader.cc:49] Successfully opened dynamic library libcufft.so.10\n",
      "2022-04-14 10:07:03.719653: I tensorflow/stream_executor/platform/default/dso_loader.cc:49] Successfully opened dynamic library libcurand.so.10\n",
      "2022-04-14 10:07:03.793337: I tensorflow/stream_executor/platform/default/dso_loader.cc:49] Successfully opened dynamic library libcusolver.so.10\n",
      "2022-04-14 10:07:03.804239: I tensorflow/stream_executor/platform/default/dso_loader.cc:49] Successfully opened dynamic library libcusparse.so.10\n",
      "2022-04-14 10:07:03.934437: I tensorflow/stream_executor/platform/default/dso_loader.cc:49] Successfully opened dynamic library libcudnn.so.7\n",
      "2022-04-14 10:07:03.934813: I tensorflow/stream_executor/cuda/cuda_gpu_executor.cc:941] successful NUMA node read from SysFS had negative value (-1), but there must be at least one NUMA node, so returning NUMA node zero\n",
      "2022-04-14 10:07:03.935398: I tensorflow/stream_executor/cuda/cuda_gpu_executor.cc:941] successful NUMA node read from SysFS had negative value (-1), but there must be at least one NUMA node, so returning NUMA node zero\n",
      "2022-04-14 10:07:03.935739: I tensorflow/core/common_runtime/gpu/gpu_device.cc:1862] Adding visible gpu devices: 0\n",
      "2022-04-14 10:07:03.936920: I tensorflow/stream_executor/platform/default/dso_loader.cc:49] Successfully opened dynamic library libcudart.so.10.1\n",
      "2022-04-14 10:07:05.850567: I tensorflow/core/common_runtime/gpu/gpu_device.cc:1261] Device interconnect StreamExecutor with strength 1 edge matrix:\n",
      "2022-04-14 10:07:05.850606: I tensorflow/core/common_runtime/gpu/gpu_device.cc:1267]      0 \n",
      "2022-04-14 10:07:05.850618: I tensorflow/core/common_runtime/gpu/gpu_device.cc:1280] 0:   N \n",
      "2022-04-14 10:07:05.851808: I tensorflow/stream_executor/cuda/cuda_gpu_executor.cc:941] successful NUMA node read from SysFS had negative value (-1), but there must be at least one NUMA node, so returning NUMA node zero\n",
      "2022-04-14 10:07:05.852145: I tensorflow/stream_executor/cuda/cuda_gpu_executor.cc:941] successful NUMA node read from SysFS had negative value (-1), but there must be at least one NUMA node, so returning NUMA node zero\n",
      "2022-04-14 10:07:05.852418: I tensorflow/stream_executor/cuda/cuda_gpu_executor.cc:941] successful NUMA node read from SysFS had negative value (-1), but there must be at least one NUMA node, so returning NUMA node zero\n",
      "2022-04-14 10:07:05.852623: I tensorflow/core/common_runtime/gpu/gpu_device.cc:1406] Created TensorFlow device (/device:GPU:0 with 7052 MB memory) -> physical GPU (device: 0, name: NVIDIA GeForce GTX 1070, pci bus id: 0000:01:00.0, compute capability: 6.1)\n",
      "2022-04-14 10:07:05.855873: I tensorflow/compiler/jit/xla_gpu_device.cc:99] Not creating XLA devices, tf_xla_enable_xla_devices not set\n"
     ]
    }
   ],
   "source": [
    "import tensorflow as tf \n",
    "# Get the GPU device name.\n",
    "device_name = tf.test.gpu_device_name()\n",
    "\n",
    "# The device name should look like the following:\n",
    "if device_name == '/device:GPU:0':\n",
    "    print('Found GPU at: {}'.format(device_name))\n",
    "else:\n",
    "    raise SystemError('GPU device not found')"
   ]
  },
  {
   "cell_type": "code",
   "execution_count": 9,
   "id": "4eda9731",
   "metadata": {},
   "outputs": [
    {
     "name": "stderr",
     "output_type": "stream",
     "text": [
      "/tmp/ipykernel_6827/3405830821.py:2: DtypeWarning: Columns (5,6,7,12) have mixed types. Specify dtype option on import or set low_memory=False.\n",
      "  df_btc = pd.read_csv('CSVFiles/Bitcoin_tweets.csv')\n"
     ]
    }
   ],
   "source": [
    "import pandas as pd \n",
    "df_btc = pd.read_csv('CSVFiles/Bitcoin_tweets.csv')\n",
    "# https://www.kaggle.com/datasets/kaushiksuresh147/bitcoin-tweets "
   ]
  },
  {
   "cell_type": "code",
   "execution_count": 10,
   "id": "c7c59a92",
   "metadata": {},
   "outputs": [],
   "source": [
    "df_btc = df_btc.drop({'user_location','user_description','user_created','user_friends','user_favourites',\n",
    "             'hashtags','source','is_retweet'}, axis=1)"
   ]
  },
  {
   "cell_type": "code",
   "execution_count": 11,
   "id": "333e11fe",
   "metadata": {},
   "outputs": [
    {
     "data": {
      "text/html": [
       "<div>\n",
       "<style scoped>\n",
       "    .dataframe tbody tr th:only-of-type {\n",
       "        vertical-align: middle;\n",
       "    }\n",
       "\n",
       "    .dataframe tbody tr th {\n",
       "        vertical-align: top;\n",
       "    }\n",
       "\n",
       "    .dataframe thead th {\n",
       "        text-align: right;\n",
       "    }\n",
       "</style>\n",
       "<table border=\"1\" class=\"dataframe\">\n",
       "  <thead>\n",
       "    <tr style=\"text-align: right;\">\n",
       "      <th></th>\n",
       "      <th>user_name</th>\n",
       "      <th>user_followers</th>\n",
       "      <th>user_verified</th>\n",
       "      <th>date</th>\n",
       "      <th>text</th>\n",
       "    </tr>\n",
       "  </thead>\n",
       "  <tbody>\n",
       "    <tr>\n",
       "      <th>0</th>\n",
       "      <td>DeSota Wilson</td>\n",
       "      <td>8534.0</td>\n",
       "      <td>False</td>\n",
       "      <td>2021-02-10 23:59:04</td>\n",
       "      <td>Blue Ridge Bank shares halted by NYSE after #b...</td>\n",
       "    </tr>\n",
       "    <tr>\n",
       "      <th>1</th>\n",
       "      <td>CryptoND</td>\n",
       "      <td>6769.0</td>\n",
       "      <td>False</td>\n",
       "      <td>2021-02-10 23:58:48</td>\n",
       "      <td>😎 Today, that's this #Thursday, we will do a \"...</td>\n",
       "    </tr>\n",
       "    <tr>\n",
       "      <th>2</th>\n",
       "      <td>Tdlmatias</td>\n",
       "      <td>128.0</td>\n",
       "      <td>False</td>\n",
       "      <td>2021-02-10 23:54:48</td>\n",
       "      <td>Guys evening, I have read this article about B...</td>\n",
       "    </tr>\n",
       "    <tr>\n",
       "      <th>3</th>\n",
       "      <td>Crypto is the future</td>\n",
       "      <td>625.0</td>\n",
       "      <td>False</td>\n",
       "      <td>2021-02-10 23:54:33</td>\n",
       "      <td>$BTC A big chance in a billion! Price: \\487264...</td>\n",
       "    </tr>\n",
       "    <tr>\n",
       "      <th>4</th>\n",
       "      <td>Alex Kirchmaier 🇦🇹🇸🇪 #FactsSuperspreader</td>\n",
       "      <td>1249.0</td>\n",
       "      <td>False</td>\n",
       "      <td>2021-02-10 23:54:06</td>\n",
       "      <td>This network is secured by 9 508 nodes as of t...</td>\n",
       "    </tr>\n",
       "    <tr>\n",
       "      <th>...</th>\n",
       "      <td>...</td>\n",
       "      <td>...</td>\n",
       "      <td>...</td>\n",
       "      <td>...</td>\n",
       "      <td>...</td>\n",
       "    </tr>\n",
       "    <tr>\n",
       "      <th>2573250</th>\n",
       "      <td>Captain Crytpo</td>\n",
       "      <td>50.0</td>\n",
       "      <td>False</td>\n",
       "      <td>2022-03-14 19:37:32</td>\n",
       "      <td>This should tell you plenty.  DO NOT hold pape...</td>\n",
       "    </tr>\n",
       "    <tr>\n",
       "      <th>2573251</th>\n",
       "      <td>nadya</td>\n",
       "      <td>0.0</td>\n",
       "      <td>False</td>\n",
       "      <td>2022-03-14 19:37:32</td>\n",
       "      <td>TEwL3iCv1Xyn3Vr7C6CHMqdS36ixA6QWvc\\n\\ncan you ...</td>\n",
       "    </tr>\n",
       "    <tr>\n",
       "      <th>2573252</th>\n",
       "      <td>Crypto Cobra</td>\n",
       "      <td>2105.0</td>\n",
       "      <td>False</td>\n",
       "      <td>2022-03-14 19:37:28</td>\n",
       "      <td>#TOP01 LOSSER LIST TODAY 14/03/22 📢\\n\\n#IMX/US...</td>\n",
       "    </tr>\n",
       "    <tr>\n",
       "      <th>2573253</th>\n",
       "      <td>Cryptonia</td>\n",
       "      <td>420.0</td>\n",
       "      <td>False</td>\n",
       "      <td>2022-03-14 19:37:26</td>\n",
       "      <td>I am the only crazy person here? \\n\\n#btc #alts</td>\n",
       "    </tr>\n",
       "    <tr>\n",
       "      <th>2573254</th>\n",
       "      <td>Derviş BEY</td>\n",
       "      <td>54.0</td>\n",
       "      <td>False</td>\n",
       "      <td>2022-03-14 19:37:19</td>\n",
       "      <td>#BUNİ \\nThis coin is solid as a bone, to new h...</td>\n",
       "    </tr>\n",
       "  </tbody>\n",
       "</table>\n",
       "<p>2573255 rows × 5 columns</p>\n",
       "</div>"
      ],
      "text/plain": [
       "                                        user_name  user_followers  \\\n",
       "0                                   DeSota Wilson          8534.0   \n",
       "1                                        CryptoND          6769.0   \n",
       "2                                       Tdlmatias           128.0   \n",
       "3                            Crypto is the future           625.0   \n",
       "4        Alex Kirchmaier 🇦🇹🇸🇪 #FactsSuperspreader          1249.0   \n",
       "...                                           ...             ...   \n",
       "2573250                            Captain Crytpo            50.0   \n",
       "2573251                                     nadya             0.0   \n",
       "2573252                              Crypto Cobra          2105.0   \n",
       "2573253                                 Cryptonia           420.0   \n",
       "2573254                                Derviş BEY            54.0   \n",
       "\n",
       "        user_verified                 date  \\\n",
       "0               False  2021-02-10 23:59:04   \n",
       "1               False  2021-02-10 23:58:48   \n",
       "2               False  2021-02-10 23:54:48   \n",
       "3               False  2021-02-10 23:54:33   \n",
       "4               False  2021-02-10 23:54:06   \n",
       "...               ...                  ...   \n",
       "2573250         False  2022-03-14 19:37:32   \n",
       "2573251         False  2022-03-14 19:37:32   \n",
       "2573252         False  2022-03-14 19:37:28   \n",
       "2573253         False  2022-03-14 19:37:26   \n",
       "2573254         False  2022-03-14 19:37:19   \n",
       "\n",
       "                                                      text  \n",
       "0        Blue Ridge Bank shares halted by NYSE after #b...  \n",
       "1        😎 Today, that's this #Thursday, we will do a \"...  \n",
       "2        Guys evening, I have read this article about B...  \n",
       "3        $BTC A big chance in a billion! Price: \\487264...  \n",
       "4        This network is secured by 9 508 nodes as of t...  \n",
       "...                                                    ...  \n",
       "2573250  This should tell you plenty.  DO NOT hold pape...  \n",
       "2573251  TEwL3iCv1Xyn3Vr7C6CHMqdS36ixA6QWvc\\n\\ncan you ...  \n",
       "2573252  #TOP01 LOSSER LIST TODAY 14/03/22 📢\\n\\n#IMX/US...  \n",
       "2573253    I am the only crazy person here? \\n\\n#btc #alts  \n",
       "2573254  #BUNİ \\nThis coin is solid as a bone, to new h...  \n",
       "\n",
       "[2573255 rows x 5 columns]"
      ]
     },
     "execution_count": 11,
     "metadata": {},
     "output_type": "execute_result"
    }
   ],
   "source": [
    "df_btc"
   ]
  },
  {
   "cell_type": "code",
   "execution_count": null,
   "id": "4fe930b5",
   "metadata": {},
   "outputs": [],
   "source": [
    "btc_date_day = [] \n",
    "btc_date_time = [] \n",
    "\n",
    "for index, row in df_btc.iterrows(): \n",
    "    print(index)\n",
    "    if type(row['date']) == \"str\":\n",
    "        temp = row['date'].split(\" \")\n",
    "        if len(temp)==2:\n",
    "            btc_date_day.append(temp[0])\n",
    "            btc_date_time.append(temp[1])\n",
    "        else: \n",
    "            df_btc.drop(index, inplace=True)\n",
    "    else:\n",
    "        df_btc.drop(index, inplace=True)"
   ]
  },
  {
   "cell_type": "code",
   "execution_count": null,
   "id": "43e09778",
   "metadata": {},
   "outputs": [],
   "source": [
    "df_btc"
   ]
  },
  {
   "cell_type": "code",
   "execution_count": 8,
   "id": "350b38cc",
   "metadata": {},
   "outputs": [
    {
     "data": {
      "text/plain": [
       "str"
      ]
     },
     "execution_count": 8,
     "metadata": {},
     "output_type": "execute_result"
    }
   ],
   "source": [
    "type(\"ada\")"
   ]
  },
  {
   "cell_type": "code",
   "execution_count": null,
   "id": "2de1abca",
   "metadata": {},
   "outputs": [],
   "source": []
  }
 ],
 "metadata": {
  "kernelspec": {
   "display_name": "Python 3 (ipykernel)",
   "language": "python",
   "name": "python3"
  },
  "language_info": {
   "codemirror_mode": {
    "name": "ipython",
    "version": 3
   },
   "file_extension": ".py",
   "mimetype": "text/x-python",
   "name": "python",
   "nbconvert_exporter": "python",
   "pygments_lexer": "ipython3",
   "version": "3.9.7"
  }
 },
 "nbformat": 4,
 "nbformat_minor": 5
}
