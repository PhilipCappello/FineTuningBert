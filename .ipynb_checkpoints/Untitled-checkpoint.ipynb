{
 "cells": [
  {
   "cell_type": "code",
   "execution_count": 1,
   "id": "7356ecab",
   "metadata": {},
   "outputs": [
    {
     "name": "stderr",
     "output_type": "stream",
     "text": [
      "2022-04-17 10:14:01.004506: I tensorflow/stream_executor/platform/default/dso_loader.cc:49] Successfully opened dynamic library libcudart.so.10.1\n",
      "2022-04-17 10:14:03.742751: I tensorflow/core/platform/cpu_feature_guard.cc:142] This TensorFlow binary is optimized with oneAPI Deep Neural Network Library (oneDNN) to use the following CPU instructions in performance-critical operations:  SSE4.1 SSE4.2 AVX AVX2 FMA\n",
      "To enable them in other operations, rebuild TensorFlow with the appropriate compiler flags.\n",
      "2022-04-17 10:14:03.756857: I tensorflow/stream_executor/platform/default/dso_loader.cc:49] Successfully opened dynamic library libcuda.so.1\n",
      "2022-04-17 10:14:03.861222: I tensorflow/stream_executor/cuda/cuda_gpu_executor.cc:941] successful NUMA node read from SysFS had negative value (-1), but there must be at least one NUMA node, so returning NUMA node zero\n",
      "2022-04-17 10:14:03.861844: I tensorflow/core/common_runtime/gpu/gpu_device.cc:1720] Found device 0 with properties: \n",
      "pciBusID: 0000:01:00.0 name: NVIDIA GeForce GTX 1070 computeCapability: 6.1\n",
      "coreClock: 1.7845GHz coreCount: 15 deviceMemorySize: 7.93GiB deviceMemoryBandwidth: 238.66GiB/s\n",
      "2022-04-17 10:14:03.861920: I tensorflow/stream_executor/platform/default/dso_loader.cc:49] Successfully opened dynamic library libcudart.so.10.1\n",
      "2022-04-17 10:14:03.923339: I tensorflow/stream_executor/platform/default/dso_loader.cc:49] Successfully opened dynamic library libcublas.so.10\n",
      "2022-04-17 10:14:03.923437: I tensorflow/stream_executor/platform/default/dso_loader.cc:49] Successfully opened dynamic library libcublasLt.so.10\n",
      "2022-04-17 10:14:03.955209: I tensorflow/stream_executor/platform/default/dso_loader.cc:49] Successfully opened dynamic library libcufft.so.10\n",
      "2022-04-17 10:14:03.964133: I tensorflow/stream_executor/platform/default/dso_loader.cc:49] Successfully opened dynamic library libcurand.so.10\n",
      "2022-04-17 10:14:04.045145: I tensorflow/stream_executor/platform/default/dso_loader.cc:49] Successfully opened dynamic library libcusolver.so.10\n",
      "2022-04-17 10:14:04.055542: I tensorflow/stream_executor/platform/default/dso_loader.cc:49] Successfully opened dynamic library libcusparse.so.10\n",
      "2022-04-17 10:14:04.183470: I tensorflow/stream_executor/platform/default/dso_loader.cc:49] Successfully opened dynamic library libcudnn.so.7\n",
      "2022-04-17 10:14:04.183868: I tensorflow/stream_executor/cuda/cuda_gpu_executor.cc:941] successful NUMA node read from SysFS had negative value (-1), but there must be at least one NUMA node, so returning NUMA node zero\n",
      "2022-04-17 10:14:04.184444: I tensorflow/stream_executor/cuda/cuda_gpu_executor.cc:941] successful NUMA node read from SysFS had negative value (-1), but there must be at least one NUMA node, so returning NUMA node zero\n",
      "2022-04-17 10:14:04.184772: I tensorflow/core/common_runtime/gpu/gpu_device.cc:1862] Adding visible gpu devices: 0\n",
      "2022-04-17 10:14:04.187835: I tensorflow/stream_executor/platform/default/dso_loader.cc:49] Successfully opened dynamic library libcudart.so.10.1\n",
      "2022-04-17 10:14:05.910875: I tensorflow/core/common_runtime/gpu/gpu_device.cc:1261] Device interconnect StreamExecutor with strength 1 edge matrix:\n",
      "2022-04-17 10:14:05.910904: I tensorflow/core/common_runtime/gpu/gpu_device.cc:1267]      0 \n",
      "2022-04-17 10:14:05.910913: I tensorflow/core/common_runtime/gpu/gpu_device.cc:1280] 0:   N \n",
      "2022-04-17 10:14:05.911953: I tensorflow/stream_executor/cuda/cuda_gpu_executor.cc:941] successful NUMA node read from SysFS had negative value (-1), but there must be at least one NUMA node, so returning NUMA node zero\n",
      "2022-04-17 10:14:05.912182: I tensorflow/stream_executor/cuda/cuda_gpu_executor.cc:941] successful NUMA node read from SysFS had negative value (-1), but there must be at least one NUMA node, so returning NUMA node zero\n",
      "2022-04-17 10:14:05.912442: I tensorflow/stream_executor/cuda/cuda_gpu_executor.cc:941] successful NUMA node read from SysFS had negative value (-1), but there must be at least one NUMA node, so returning NUMA node zero\n",
      "2022-04-17 10:14:05.912590: I tensorflow/core/common_runtime/gpu/gpu_device.cc:1406] Created TensorFlow device (/device:GPU:0 with 6909 MB memory) -> physical GPU (device: 0, name: NVIDIA GeForce GTX 1070, pci bus id: 0000:01:00.0, compute capability: 6.1)\n",
      "2022-04-17 10:14:05.915363: I tensorflow/compiler/jit/xla_gpu_device.cc:99] Not creating XLA devices, tf_xla_enable_xla_devices not set\n"
     ]
    },
    {
     "name": "stdout",
     "output_type": "stream",
     "text": [
      "Found GPU at: /device:GPU:0\n",
      "There are 1 GPU(s) available.\n",
      "We will use the GPU: NVIDIA GeForce GTX 1070\n"
     ]
    }
   ],
   "source": [
    "import tensorflow as tf \n",
    "# Get the GPU device name.\n",
    "device_name = tf.test.gpu_device_name()\n",
    "\n",
    "# The device name should look like the following:\n",
    "if device_name == '/device:GPU:0':\n",
    "    print('Found GPU at: {}'.format(device_name))\n",
    "else:\n",
    "    raise SystemError('GPU device not found')\n",
    "    \n",
    "import torch\n",
    "\n",
    "# If there's a GPU available...\n",
    "if torch.cuda.is_available():    \n",
    "\n",
    "    # Tell PyTorch to use the GPU.    \n",
    "    device = torch.device(\"cuda\")\n",
    "\n",
    "    print('There are %d GPU(s) available.' % torch.cuda.device_count())\n",
    "\n",
    "    print('We will use the GPU:', torch.cuda.get_device_name(0))\n",
    "\n",
    "# If not...\n",
    "else:\n",
    "    print('No GPU available, using the CPU instead.')\n",
    "    device = torch.device(\"cpu\")"
   ]
  },
  {
   "cell_type": "code",
   "execution_count": 2,
   "id": "be8f9c87",
   "metadata": {},
   "outputs": [],
   "source": [
    "import pandas as pd "
   ]
  },
  {
   "cell_type": "code",
   "execution_count": 3,
   "id": "df44d5f2",
   "metadata": {},
   "outputs": [
    {
     "name": "stderr",
     "output_type": "stream",
     "text": [
      "/tmp/ipykernel_9704/4081200729.py:1: DtypeWarning: Columns (5,6,7,12) have mixed types. Specify dtype option on import or set low_memory=False.\n",
      "  df = pd.read_csv('CSVFiles/Bitcoin_tweets.csv')\n"
     ]
    }
   ],
   "source": [
    "df = pd.read_csv('CSVFiles/Bitcoin_tweets.csv')"
   ]
  },
  {
   "cell_type": "code",
   "execution_count": 9,
   "id": "a1f602d5",
   "metadata": {},
   "outputs": [],
   "source": [
    "date_days = [] \n",
    "date_time = [] \n",
    "\n",
    "for index, row in df.iterrows():\n",
    "    if type(row['date']) is str:\n",
    "        temp = row['date'].split(\" \")\n",
    "        if len(temp) == 2:\n",
    "            date_days.append(temp[0])\n",
    "            date_time.append(temp[1])\n",
    "        else:\n",
    "            df.drop(index, inplace=True)\n",
    "    else:\n",
    "        df.drop(index, inplace=True)"
   ]
  },
  {
   "cell_type": "code",
   "execution_count": 51,
   "id": "6a44de86",
   "metadata": {},
   "outputs": [
    {
     "data": {
      "text/plain": [
       "['2021', '02', '09']"
      ]
     },
     "execution_count": 51,
     "metadata": {},
     "output_type": "execute_result"
    }
   ],
   "source": [
    "df['date_days'][4444].split(\"-\")"
   ]
  },
  {
   "cell_type": "code",
   "execution_count": 52,
   "id": "c04e91be",
   "metadata": {},
   "outputs": [],
   "source": [
    "import re \n",
    "count = 0 \n",
    "\n",
    "date_year = [] \n",
    "date_month = [] \n",
    "\n",
    "for index, row in df.iterrows():\n",
    "    if type(row['date_days']) is str:\n",
    "        temp = row['date_days'].split(\"-\")\n",
    "        if len(temp)==3:\n",
    "            date_year.append(temp[0])\n",
    "            date_month.append(temp[1])\n",
    "        else:\n",
    "            df.drop(index, inplace=True)"
   ]
  },
  {
   "cell_type": "code",
   "execution_count": 56,
   "id": "79269ca8",
   "metadata": {},
   "outputs": [],
   "source": [
    "df['date_year'] = date_year\n",
    "df['date_month'] = date_month"
   ]
  },
  {
   "cell_type": "code",
   "execution_count": 67,
   "id": "6f94d805",
   "metadata": {},
   "outputs": [],
   "source": [
    "df07 = df.loc[(df['date_year']==\"2021\") & (df['date_month']==\"07\")]"
   ]
  },
  {
   "cell_type": "code",
   "execution_count": 68,
   "id": "1fd516a7",
   "metadata": {},
   "outputs": [],
   "source": [
    "df08 = df.loc[(df['date_year']==\"2021\") & (df['date_month']==\"08\")]"
   ]
  },
  {
   "cell_type": "code",
   "execution_count": 71,
   "id": "2d94c8d2",
   "metadata": {},
   "outputs": [],
   "source": [
    "df_res = pd.concat([df07,df08], ignore_index=True)"
   ]
  },
  {
   "cell_type": "code",
   "execution_count": 92,
   "id": "22d1ac0e",
   "metadata": {},
   "outputs": [],
   "source": [
    "df_res = df_res.drop(['date_time'], axis=1)"
   ]
  },
  {
   "cell_type": "code",
   "execution_count": 94,
   "id": "cce17db0",
   "metadata": {},
   "outputs": [],
   "source": [
    "df_res.to_csv('CSVFiles/PerformSentiment.csv')"
   ]
  },
  {
   "cell_type": "code",
   "execution_count": 101,
   "id": "651abea0",
   "metadata": {},
   "outputs": [],
   "source": [
    "# now we organize BTC data we collected from Binance \n",
    "# https://data.binance.vision/?prefix=data/spot/monthly/klines/BTCUSDC/1m/\n",
    "cols = [\"Open-Time\", \"Open\", \"High\", \"Low\", \"Close\", \"Volume\", \"Close-Time\", \"Quote-Asset-Volume\",\n",
    "        \"Number-Of-Trades\", \"Taker-Buy-Base-Asset-Volume\", \"Taker-Buy-Quote-Asset-Volume\", \"Ignore\"]\n",
    "df_btc_07 = pd.read_csv('CSVFiles/BTCUSDC-1d-2021-07.csv', names=cols)\n",
    "df_btc_08 = pd.read_csv('CSVFiles/BTCUSDC-1d-2021-08.csv', names=cols)\n",
    "df_btc = pd.concat([df_btc_07,df_btc_08], ignore_index=True)"
   ]
  },
  {
   "cell_type": "code",
   "execution_count": 104,
   "id": "2514950c",
   "metadata": {},
   "outputs": [],
   "source": [
    "# convert Open-Time column to readable dates (see GettingHistoricalData.ipynb)\n",
    "# have columns for year, month and day \n",
    "# drop unneeded rows \n",
    "# once sentiment is done, organize tweets into buckets indexed by yyyy-mm-dd \n",
    "from datetime import datetime \n",
    "btc_open_times = [] \n",
    "for index, row in df_btc.iterrows():\n",
    "    ts = row['Open-Time']/1000\n",
    "    btc_open_times.append(datetime.utcfromtimestamp(ts).strftime('%Y-%m-%d %H:%M:%S'))"
   ]
  },
  {
   "cell_type": "code",
   "execution_count": 109,
   "id": "110a8025",
   "metadata": {},
   "outputs": [],
   "source": [
    "df_btc = df_btc.drop(['Open-Time'], axis=1)"
   ]
  },
  {
   "cell_type": "code",
   "execution_count": 118,
   "id": "fb067001",
   "metadata": {},
   "outputs": [],
   "source": [
    "date_timestamps = [] \n",
    "for i in range(0,len(btc_open_times)):\n",
    "    temp = str(btc_open_times[i]).split(\" \")\n",
    "    date_timestamps.append(temp[0])\n",
    "df_btc['Date'] = date_timestamps  "
   ]
  },
  {
   "cell_type": "code",
   "execution_count": 127,
   "id": "5431b7a1",
   "metadata": {},
   "outputs": [],
   "source": [
    "'''\n",
    "Quote-Asset-Volume is the volume in the second part of the pair. \n",
    "Ex: In BTC/USDT the quote-asset-volume is the volume in USDT paid by buyers in the market  \n",
    "\n",
    "Taker-Buy Base-Asset Volume-> Taker-Buy means the buyer is the taker and the seller is the maker \n",
    "                                (Taker/Buyer matches an existing order placed by a Maker/Seller)\n",
    "                                Base-Asset is the amount of coins received by buyer \n",
    "                                Volume is total amount of coins traded in one day \n",
    "\n",
    "                                So, Taker-Buy Base-Asset Volume represents how many of the total \n",
    "                                Base-Asset Volume are contributed by the Taker-Buy orders \n",
    "                                (ie. it represents the total number of coins received by buyers in\n",
    "                                all Taker-Buy trades occuring in a single day)\n",
    "''' \n",
    "df_btc = df_btc.drop('Open-Time', axis=1)"
   ]
  },
  {
   "cell_type": "code",
   "execution_count": 131,
   "id": "715c3a80",
   "metadata": {},
   "outputs": [],
   "source": [
    "df_res = pd.read_csv('CSVFiles/sentiment.csv')"
   ]
  },
  {
   "cell_type": "code",
   "execution_count": 133,
   "id": "65ce4133",
   "metadata": {},
   "outputs": [],
   "source": [
    "# now we organize tweets into buckets indexed by each day \n",
    "df_res = df_res.drop(['Unnamed: 0.1', 'Unnamed: 0'], axis=1)"
   ]
  },
  {
   "cell_type": "code",
   "execution_count": 138,
   "id": "0f187065",
   "metadata": {},
   "outputs": [],
   "source": [
    "df_res = df_res.drop(['date'], axis=1)"
   ]
  },
  {
   "cell_type": "code",
   "execution_count": 143,
   "id": "aea22dcb",
   "metadata": {},
   "outputs": [],
   "source": [
    "df_btc.to_csv('CSVFiles/btc_prices.csv')"
   ]
  },
  {
   "cell_type": "code",
   "execution_count": null,
   "id": "56b260bc",
   "metadata": {},
   "outputs": [],
   "source": [
    "key_value = {} \n",
    "\n",
    "for index, row in df_res.iterrows(): \n",
    "    if row['date_days'] in key_value.keys():\n",
    "        key_value[row['date_days']].append(row)\n",
    "    else:\n",
    "        key_value[row['date_days']] = [row]"
   ]
  },
  {
   "cell_type": "code",
   "execution_count": 150,
   "id": "6d061066",
   "metadata": {},
   "outputs": [
    {
     "data": {
      "text/html": [
       "<div>\n",
       "<style scoped>\n",
       "    .dataframe tbody tr th:only-of-type {\n",
       "        vertical-align: middle;\n",
       "    }\n",
       "\n",
       "    .dataframe tbody tr th {\n",
       "        vertical-align: top;\n",
       "    }\n",
       "\n",
       "    .dataframe thead th {\n",
       "        text-align: right;\n",
       "    }\n",
       "</style>\n",
       "<table border=\"1\" class=\"dataframe\">\n",
       "  <thead>\n",
       "    <tr style=\"text-align: right;\">\n",
       "      <th></th>\n",
       "      <th>text</th>\n",
       "      <th>date_days</th>\n",
       "      <th>date_year</th>\n",
       "      <th>date_month</th>\n",
       "      <th>sentiment</th>\n",
       "    </tr>\n",
       "  </thead>\n",
       "  <tbody>\n",
       "    <tr>\n",
       "      <th>0</th>\n",
       "      <td>Why ‘Cardano is just teasing us’\\n\\n💡 \\n\\n#car...</td>\n",
       "      <td>2021-07-05</td>\n",
       "      <td>2021</td>\n",
       "      <td>7</td>\n",
       "      <td>2</td>\n",
       "    </tr>\n",
       "    <tr>\n",
       "      <th>1</th>\n",
       "      <td>#Thailand #Boutiquehotels For Sale! \\n#willroa...</td>\n",
       "      <td>2021-07-05</td>\n",
       "      <td>2021</td>\n",
       "      <td>7</td>\n",
       "      <td>2</td>\n",
       "    </tr>\n",
       "    <tr>\n",
       "      <th>2</th>\n",
       "      <td>LUNALAND ($LLN) will burn coin supply until we...</td>\n",
       "      <td>2021-07-05</td>\n",
       "      <td>2021</td>\n",
       "      <td>7</td>\n",
       "      <td>2</td>\n",
       "    </tr>\n",
       "    <tr>\n",
       "      <th>3</th>\n",
       "      <td>#Ilovebitcoin because people never assume that...</td>\n",
       "      <td>2021-07-05</td>\n",
       "      <td>2021</td>\n",
       "      <td>7</td>\n",
       "      <td>1</td>\n",
       "    </tr>\n",
       "    <tr>\n",
       "      <th>4</th>\n",
       "      <td>$bsc $btc #BNB #Bitcoin #BSC #EarnBNB #BTC</td>\n",
       "      <td>2021-07-05</td>\n",
       "      <td>2021</td>\n",
       "      <td>7</td>\n",
       "      <td>2</td>\n",
       "    </tr>\n",
       "    <tr>\n",
       "      <th>...</th>\n",
       "      <td>...</td>\n",
       "      <td>...</td>\n",
       "      <td>...</td>\n",
       "      <td>...</td>\n",
       "      <td>...</td>\n",
       "    </tr>\n",
       "    <tr>\n",
       "      <th>955061</th>\n",
       "      <td>Very interesting project\\n \\n \\n \\n \\n \\n\\n#A...</td>\n",
       "      <td>2021-08-25</td>\n",
       "      <td>2021</td>\n",
       "      <td>8</td>\n",
       "      <td>2</td>\n",
       "    </tr>\n",
       "    <tr>\n",
       "      <th>955062</th>\n",
       "      <td>What a beauty. All 3 uptargets got hit perfect...</td>\n",
       "      <td>2021-08-25</td>\n",
       "      <td>2021</td>\n",
       "      <td>8</td>\n",
       "      <td>0</td>\n",
       "    </tr>\n",
       "    <tr>\n",
       "      <th>955063</th>\n",
       "      <td>Checking out #AIDI ain’t going to let you los...</td>\n",
       "      <td>2021-08-25</td>\n",
       "      <td>2021</td>\n",
       "      <td>8</td>\n",
       "      <td>0</td>\n",
       "    </tr>\n",
       "    <tr>\n",
       "      <th>955064</th>\n",
       "      <td>good project and strong team, in a predictabl...</td>\n",
       "      <td>2021-08-25</td>\n",
       "      <td>2021</td>\n",
       "      <td>8</td>\n",
       "      <td>1</td>\n",
       "    </tr>\n",
       "    <tr>\n",
       "      <th>955065</th>\n",
       "      <td>Me : I missed 👇\\n                       #BTC -...</td>\n",
       "      <td>2021-08-25</td>\n",
       "      <td>2021</td>\n",
       "      <td>8</td>\n",
       "      <td>2</td>\n",
       "    </tr>\n",
       "  </tbody>\n",
       "</table>\n",
       "<p>955066 rows × 5 columns</p>\n",
       "</div>"
      ],
      "text/plain": [
       "                                                     text   date_days  \\\n",
       "0       Why ‘Cardano is just teasing us’\\n\\n💡 \\n\\n#car...  2021-07-05   \n",
       "1       #Thailand #Boutiquehotels For Sale! \\n#willroa...  2021-07-05   \n",
       "2       LUNALAND ($LLN) will burn coin supply until we...  2021-07-05   \n",
       "3       #Ilovebitcoin because people never assume that...  2021-07-05   \n",
       "4             $bsc $btc #BNB #Bitcoin #BSC #EarnBNB #BTC   2021-07-05   \n",
       "...                                                   ...         ...   \n",
       "955061   Very interesting project\\n \\n \\n \\n \\n \\n\\n#A...  2021-08-25   \n",
       "955062  What a beauty. All 3 uptargets got hit perfect...  2021-08-25   \n",
       "955063   Checking out #AIDI ain’t going to let you los...  2021-08-25   \n",
       "955064   good project and strong team, in a predictabl...  2021-08-25   \n",
       "955065  Me : I missed 👇\\n                       #BTC -...  2021-08-25   \n",
       "\n",
       "        date_year  date_month  sentiment  \n",
       "0            2021           7          2  \n",
       "1            2021           7          2  \n",
       "2            2021           7          2  \n",
       "3            2021           7          1  \n",
       "4            2021           7          2  \n",
       "...           ...         ...        ...  \n",
       "955061       2021           8          2  \n",
       "955062       2021           8          0  \n",
       "955063       2021           8          0  \n",
       "955064       2021           8          1  \n",
       "955065       2021           8          2  \n",
       "\n",
       "[955066 rows x 5 columns]"
      ]
     },
     "execution_count": 150,
     "metadata": {},
     "output_type": "execute_result"
    }
   ],
   "source": [
    "df_res"
   ]
  },
  {
   "cell_type": "code",
   "execution_count": null,
   "id": "b14d0962",
   "metadata": {},
   "outputs": [],
   "source": [
    "df_"
   ]
  }
 ],
 "metadata": {
  "kernelspec": {
   "display_name": "Python 3 (ipykernel)",
   "language": "python",
   "name": "python3"
  },
  "language_info": {
   "codemirror_mode": {
    "name": "ipython",
    "version": 3
   },
   "file_extension": ".py",
   "mimetype": "text/x-python",
   "name": "python",
   "nbconvert_exporter": "python",
   "pygments_lexer": "ipython3",
   "version": "3.9.7"
  }
 },
 "nbformat": 4,
 "nbformat_minor": 5
}
