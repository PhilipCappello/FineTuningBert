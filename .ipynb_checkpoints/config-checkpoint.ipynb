{
 "cells": [
  {
   "cell_type": "code",
   "execution_count": null,
   "id": "312cef4c",
   "metadata": {},
   "outputs": [],
   "source": [
    "#phil\n",
    "api_key = \"QomMaEKQpOD6WMss4xl4lyVEv\"\n",
    "api_key_secret = \"WTbsMfSexwAlyAtoDz21Atul3gDBQKdP8Set2wOm9NxyJ2oUzf\"\n",
    "access_token = \"3169296078-H5uDgujkA6Gbfz12qfEtd0jFIg5g8ieERyPNXIo\"\n",
    "access_token_secret = \"407NpSwGYVzxfj1g5qsIsyDHtyibD2aOfcAwyhjqJQVvv\"\n",
    "\n",
    "# hassan\n",
    "# api_key = \"b8DNrJCE8JXKy82lsrWpBIXis\"\n",
    "# api_key_secret = \"ADrtHNzR29asNh9TaCpKNAw0TDVIX6d2YDBdHVcZUdo4E0dpJW\"\n",
    "# access_token = \"4895214139-AKW3p6OhjVROjtEH8Wf3HyD6hTm1JAjHBnYXoqP\"\n",
    "# access_token_secret = \"X1alilHMIYeSrThjHWHnrk5GrtU6ZchPV4RktmJfnYhKt\"\n",
    "# bearer_token= \"AAAAAAAAAAAAAAAAAAAAAEumXwEAAAAAkh9N%2B%2BA2nYxeqA0KicHipeP%2B2v8%3DCPXHq65ZfpOWcoZxyBL1ry2mAHzs7dlmRNBViSfMe8rMoGxDyr\""
   ]
  }
 ],
 "metadata": {
  "kernelspec": {
   "display_name": "Python 3 (ipykernel)",
   "language": "python",
   "name": "python3"
  },
  "language_info": {
   "codemirror_mode": {
    "name": "ipython",
    "version": 3
   },
   "file_extension": ".py",
   "mimetype": "text/x-python",
   "name": "python",
   "nbconvert_exporter": "python",
   "pygments_lexer": "ipython3",
   "version": "3.9.7"
  }
 },
 "nbformat": 4,
 "nbformat_minor": 5
}
