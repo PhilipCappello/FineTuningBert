{
 "cells": [
  {
   "cell_type": "code",
   "execution_count": 2,
   "id": "5bb9a7a2",
   "metadata": {},
   "outputs": [],
   "source": [
    "import pandas as pd \n",
    "import numpy as np \n",
    "\n",
    "from tqdm.auto import tqdm \n",
    "\n",
    "import torch \n",
    "import torch.nn as nn \n",
    "from torch.utils.data import Dataset, DataLoader \n",
    "\n",
    "from transformers import BertTokenizerFast as BertTokenizer, BertModel, AdamW, get_linear_schedule_with_warmup\n",
    "\n",
    "import pytorch_lightning as pl \n",
    "from torchmetrics.functional import accuracy, f1, auroc\n",
    "from pytorch_lightning.callbacks import ModelCheckpoint, EarlyStopping\n",
    "from pytorch_lightning.loggers import TensorBoardLogger\n",
    "\n",
    "from sklearn.model_selection import train_test_split\n",
    "from sklearn.metrics import classification_report, multilabel_confusion_matrix\n",
    "\n",
    "import seaborn as sns\n",
    "from pylab import rcParams\n",
    "import matplotlib.pyplot as plt\n",
    "from matplotlib import rc"
   ]
  },
  {
   "cell_type": "code",
   "execution_count": 3,
   "id": "e9ed5310",
   "metadata": {},
   "outputs": [
    {
     "data": {
      "text/plain": [
       "device(type='cpu')"
      ]
     },
     "execution_count": 3,
     "metadata": {},
     "output_type": "execute_result"
    }
   ],
   "source": [
    "RANDOM_SEED = 42 \n",
    "torch.manual_seed(RANDOM_SEED)\n",
    "device = torch.device(\"cuda:0\" if torch.cuda.is_available() else \"cpu\")\n",
    "device"
   ]
  },
  {
   "cell_type": "code",
   "execution_count": 4,
   "id": "b52418c5",
   "metadata": {},
   "outputs": [],
   "source": [
    "df = pd.read_csv('training-data-positive-and-negative-sentiment-english.csv')"
   ]
  },
  {
   "cell_type": "code",
   "execution_count": 5,
   "id": "1712e3b3",
   "metadata": {},
   "outputs": [
    {
     "data": {
      "text/html": [
       "<div>\n",
       "<style scoped>\n",
       "    .dataframe tbody tr th:only-of-type {\n",
       "        vertical-align: middle;\n",
       "    }\n",
       "\n",
       "    .dataframe tbody tr th {\n",
       "        vertical-align: top;\n",
       "    }\n",
       "\n",
       "    .dataframe thead th {\n",
       "        text-align: right;\n",
       "    }\n",
       "</style>\n",
       "<table border=\"1\" class=\"dataframe\">\n",
       "  <thead>\n",
       "    <tr style=\"text-align: right;\">\n",
       "      <th></th>\n",
       "      <th>Date</th>\n",
       "      <th>text</th>\n",
       "      <th>Sentiment</th>\n",
       "    </tr>\n",
       "  </thead>\n",
       "  <tbody>\n",
       "    <tr>\n",
       "      <th>0</th>\n",
       "      <td>2019-05-27</td>\n",
       "      <td>È appena uscito un nuovo video! LES CRYPTOMONN...</td>\n",
       "      <td>Positive</td>\n",
       "    </tr>\n",
       "    <tr>\n",
       "      <th>1</th>\n",
       "      <td>2019-05-27</td>\n",
       "      <td>Cardano: Digitize Currencies; EOS https://t.co...</td>\n",
       "      <td>Positive</td>\n",
       "    </tr>\n",
       "    <tr>\n",
       "      <th>2</th>\n",
       "      <td>2019-05-27</td>\n",
       "      <td>Another Test tweet that wasn't caught in the s...</td>\n",
       "      <td>Positive</td>\n",
       "    </tr>\n",
       "    <tr>\n",
       "      <th>3</th>\n",
       "      <td>2019-05-27</td>\n",
       "      <td>Current Crypto Prices! \\n\\nBTC: $8721.99 USD\\n...</td>\n",
       "      <td>Positive</td>\n",
       "    </tr>\n",
       "    <tr>\n",
       "      <th>4</th>\n",
       "      <td>2019-05-27</td>\n",
       "      <td>Spiv (Nosar Baz): BITCOIN Is An Asset &amp;amp; NO...</td>\n",
       "      <td>Positive</td>\n",
       "    </tr>\n",
       "  </tbody>\n",
       "</table>\n",
       "</div>"
      ],
      "text/plain": [
       "         Date                                               text Sentiment\n",
       "0  2019-05-27  È appena uscito un nuovo video! LES CRYPTOMONN...  Positive\n",
       "1  2019-05-27  Cardano: Digitize Currencies; EOS https://t.co...  Positive\n",
       "2  2019-05-27  Another Test tweet that wasn't caught in the s...  Positive\n",
       "3  2019-05-27  Current Crypto Prices! \\n\\nBTC: $8721.99 USD\\n...  Positive\n",
       "4  2019-05-27  Spiv (Nosar Baz): BITCOIN Is An Asset &amp; NO...  Positive"
      ]
     },
     "execution_count": 5,
     "metadata": {},
     "output_type": "execute_result"
    }
   ],
   "source": [
    "df = df.drop('Unnamed: 0',axis=1)\n",
    "df.head()"
   ]
  },
  {
   "cell_type": "code",
   "execution_count": 6,
   "id": "49177c76",
   "metadata": {},
   "outputs": [
    {
     "data": {
      "text/plain": [
       "(59500, 3)"
      ]
     },
     "execution_count": 6,
     "metadata": {},
     "output_type": "execute_result"
    }
   ],
   "source": [
    "df.shape"
   ]
  },
  {
   "cell_type": "code",
   "execution_count": 7,
   "id": "1b20b0a5",
   "metadata": {},
   "outputs": [
    {
     "name": "stdout",
     "output_type": "stream",
     "text": [
      "<class 'pandas.core.frame.DataFrame'>\n",
      "RangeIndex: 59500 entries, 0 to 59499\n",
      "Data columns (total 3 columns):\n",
      " #   Column     Non-Null Count  Dtype \n",
      "---  ------     --------------  ----- \n",
      " 0   Date       59500 non-null  object\n",
      " 1   text       59500 non-null  object\n",
      " 2   Sentiment  59500 non-null  object\n",
      "dtypes: object(3)\n",
      "memory usage: 1.4+ MB\n"
     ]
    }
   ],
   "source": [
    "df.info()"
   ]
  },
  {
   "cell_type": "code",
   "execution_count": 8,
   "id": "2382e0a5",
   "metadata": {},
   "outputs": [
    {
     "data": {
      "text/plain": [
       "Text(0.5, 0, 'Sentiment Score')"
      ]
     },
     "execution_count": 8,
     "metadata": {},
     "output_type": "execute_result"
    },
    {
     "data": {
      "image/png": "[encoded data removed]",
      "text/plain": [
       "<Figure size 432x288 with 1 Axes>"
      ]
     },
     "metadata": {
      "needs_background": "light"
     },
     "output_type": "display_data"
    }
   ],
   "source": [
    "sns.countplot(x=df.Sentiment)\n",
    "plt.xlabel('Sentiment Score')"
   ]
  },
  {
   "cell_type": "code",
   "execution_count": 9,
   "id": "91a85969",
   "metadata": {},
   "outputs": [
    {
     "data": {
      "text/html": [
       "<div>\n",
       "<style scoped>\n",
       "    .dataframe tbody tr th:only-of-type {\n",
       "        vertical-align: middle;\n",
       "    }\n",
       "\n",
       "    .dataframe tbody tr th {\n",
       "        vertical-align: top;\n",
       "    }\n",
       "\n",
       "    .dataframe thead th {\n",
       "        text-align: right;\n",
       "    }\n",
       "</style>\n",
       "<table border=\"1\" class=\"dataframe\">\n",
       "  <thead>\n",
       "    <tr style=\"text-align: right;\">\n",
       "      <th></th>\n",
       "      <th>Fri Mar 23 00:40:32 +0000 2018</th>\n",
       "      <th>text</th>\n",
       "      <th>myresumerocket</th>\n",
       "      <th>16522</th>\n",
       "      <th>0</th>\n",
       "      <th>[]</th>\n",
       "      <th>&lt;a href=\"http://twitter.com\" rel=\"nofollow\"&gt;Twitter Web Client&lt;/a&gt;</th>\n",
       "      <th>Sentiment</th>\n",
       "    </tr>\n",
       "  </thead>\n",
       "  <tbody>\n",
       "    <tr>\n",
       "      <th>0</th>\n",
       "      <td>Fri Mar 23 00:40:34 +0000 2018</td>\n",
       "      <td>@lopp @_Kevin_Pham @psycho_sage @naval But @Pr...</td>\n",
       "      <td>BitMocro</td>\n",
       "      <td>1295</td>\n",
       "      <td>0</td>\n",
       "      <td>[u'Bitcoin']</td>\n",
       "      <td>&lt;a href=\"http://twitter.com/download/android\" ...</td>\n",
       "      <td>['neutral']</td>\n",
       "    </tr>\n",
       "    <tr>\n",
       "      <th>1</th>\n",
       "      <td>Fri Mar 23 00:40:35 +0000 2018</td>\n",
       "      <td>RT @tippereconomy: Another use case for #block...</td>\n",
       "      <td>hojachotopur</td>\n",
       "      <td>6090</td>\n",
       "      <td>0</td>\n",
       "      <td>[u'blockchain', u'Tipper', u'TipperEconomy']</td>\n",
       "      <td>&lt;a href=\"http://twitter.com\" rel=\"nofollow\"&gt;Tw...</td>\n",
       "      <td>['positive']</td>\n",
       "    </tr>\n",
       "    <tr>\n",
       "      <th>2</th>\n",
       "      <td>Fri Mar 23 00:40:36 +0000 2018</td>\n",
       "      <td>free coins https://t.co/DiuoePJdap</td>\n",
       "      <td>denies_distro</td>\n",
       "      <td>2626</td>\n",
       "      <td>0</td>\n",
       "      <td>[]</td>\n",
       "      <td>&lt;a href=\"http://twitter.com\" rel=\"nofollow\"&gt;Tw...</td>\n",
       "      <td>['positive']</td>\n",
       "    </tr>\n",
       "    <tr>\n",
       "      <th>3</th>\n",
       "      <td>Fri Mar 23 00:40:36 +0000 2018</td>\n",
       "      <td>RT @payvxofficial: WE are happy to announce th...</td>\n",
       "      <td>aditzgraha</td>\n",
       "      <td>184</td>\n",
       "      <td>0</td>\n",
       "      <td>[]</td>\n",
       "      <td>&lt;a href=\"http://twitter.com/download/android\" ...</td>\n",
       "      <td>['positive']</td>\n",
       "    </tr>\n",
       "    <tr>\n",
       "      <th>4</th>\n",
       "      <td>Fri Mar 23 00:40:36 +0000 2018</td>\n",
       "      <td>Copy successful traders automatically with Bit...</td>\n",
       "      <td>VictorS61164810</td>\n",
       "      <td>14</td>\n",
       "      <td>0</td>\n",
       "      <td>[]</td>\n",
       "      <td>&lt;a href=\"http://twitter.com\" rel=\"nofollow\"&gt;Tw...</td>\n",
       "      <td>['positive']</td>\n",
       "    </tr>\n",
       "  </tbody>\n",
       "</table>\n",
       "</div>"
      ],
      "text/plain": [
       "   Fri Mar 23 00:40:32 +0000 2018  \\\n",
       "0  Fri Mar 23 00:40:34 +0000 2018   \n",
       "1  Fri Mar 23 00:40:35 +0000 2018   \n",
       "2  Fri Mar 23 00:40:36 +0000 2018   \n",
       "3  Fri Mar 23 00:40:36 +0000 2018   \n",
       "4  Fri Mar 23 00:40:36 +0000 2018   \n",
       "\n",
       "                                                text   myresumerocket  16522  \\\n",
       "0  @lopp @_Kevin_Pham @psycho_sage @naval But @Pr...         BitMocro   1295   \n",
       "1  RT @tippereconomy: Another use case for #block...     hojachotopur   6090   \n",
       "2                 free coins https://t.co/DiuoePJdap    denies_distro   2626   \n",
       "3  RT @payvxofficial: WE are happy to announce th...       aditzgraha    184   \n",
       "4  Copy successful traders automatically with Bit...  VictorS61164810     14   \n",
       "\n",
       "   0                                            []  \\\n",
       "0  0                                  [u'Bitcoin']   \n",
       "1  0  [u'blockchain', u'Tipper', u'TipperEconomy']   \n",
       "2  0                                            []   \n",
       "3  0                                            []   \n",
       "4  0                                            []   \n",
       "\n",
       "  <a href=\"http://twitter.com\" rel=\"nofollow\">Twitter Web Client</a>  \\\n",
       "0  <a href=\"http://twitter.com/download/android\" ...                   \n",
       "1  <a href=\"http://twitter.com\" rel=\"nofollow\">Tw...                   \n",
       "2  <a href=\"http://twitter.com\" rel=\"nofollow\">Tw...                   \n",
       "3  <a href=\"http://twitter.com/download/android\" ...                   \n",
       "4  <a href=\"http://twitter.com\" rel=\"nofollow\">Tw...                   \n",
       "\n",
       "      Sentiment  \n",
       "0   ['neutral']  \n",
       "1  ['positive']  \n",
       "2  ['positive']  \n",
       "3  ['positive']  \n",
       "4  ['positive']  "
      ]
     },
     "execution_count": 9,
     "metadata": {},
     "output_type": "execute_result"
    }
   ],
   "source": [
    "# since there are no neutral tweets in our training data, we got some from Kaggle \n",
    "df1 = pd.read_csv('bitcointweets.csv')\n",
    "df1.head()"
   ]
  },
  {
   "cell_type": "code",
   "execution_count": 14,
   "id": "12827275",
   "metadata": {},
   "outputs": [
    {
     "data": {
      "text/html": [
       "<div>\n",
       "<style scoped>\n",
       "    .dataframe tbody tr th:only-of-type {\n",
       "        vertical-align: middle;\n",
       "    }\n",
       "\n",
       "    .dataframe tbody tr th {\n",
       "        vertical-align: top;\n",
       "    }\n",
       "\n",
       "    .dataframe thead th {\n",
       "        text-align: right;\n",
       "    }\n",
       "</style>\n",
       "<table border=\"1\" class=\"dataframe\">\n",
       "  <thead>\n",
       "    <tr style=\"text-align: right;\">\n",
       "      <th></th>\n",
       "      <th>text</th>\n",
       "      <th>Sentiment</th>\n",
       "    </tr>\n",
       "  </thead>\n",
       "  <tbody>\n",
       "    <tr>\n",
       "      <th>0</th>\n",
       "      <td>@lopp @_Kevin_Pham @psycho_sage @naval But @Pr...</td>\n",
       "      <td>['neutral']</td>\n",
       "    </tr>\n",
       "    <tr>\n",
       "      <th>1</th>\n",
       "      <td>One click to start mining cryptocurrencies tog...</td>\n",
       "      <td>['neutral']</td>\n",
       "    </tr>\n",
       "    <tr>\n",
       "      <th>2</th>\n",
       "      <td>RT @livemarketcap: ICE Agency Charges Payza an...</td>\n",
       "      <td>['neutral']</td>\n",
       "    </tr>\n",
       "    <tr>\n",
       "      <th>3</th>\n",
       "      <td>RT @Vaultoro: We have all seen the HTTP protoc...</td>\n",
       "      <td>['neutral']</td>\n",
       "    </tr>\n",
       "    <tr>\n",
       "      <th>4</th>\n",
       "      <td>@eatBCH @Bitcoin @signalapp @myWickr @Samsung ...</td>\n",
       "      <td>['neutral']</td>\n",
       "    </tr>\n",
       "    <tr>\n",
       "      <th>...</th>\n",
       "      <td>...</td>\n",
       "      <td>...</td>\n",
       "    </tr>\n",
       "    <tr>\n",
       "      <th>21933</th>\n",
       "      <td>Bitcoin: Mastering Bitcoin: Discover How I (An...</td>\n",
       "      <td>['neutral']</td>\n",
       "    </tr>\n",
       "    <tr>\n",
       "      <th>21934</th>\n",
       "      <td>#Zhao #Dong #Recounts How He Lost 9,000 #BTC h...</td>\n",
       "      <td>['neutral']</td>\n",
       "    </tr>\n",
       "    <tr>\n",
       "      <th>21935</th>\n",
       "      <td>Bitcoin Price Technical Analysis for 03/23/201...</td>\n",
       "      <td>['neutral']</td>\n",
       "    </tr>\n",
       "    <tr>\n",
       "      <th>21936</th>\n",
       "      <td>RT @PhotoCoin_io: 2,000,000 PHT TOKEN #airdrop...</td>\n",
       "      <td>['neutral']</td>\n",
       "    </tr>\n",
       "    <tr>\n",
       "      <th>21937</th>\n",
       "      <td>RT @GymRewards: Buy #GYMRewards Tokens, Bonus ...</td>\n",
       "      <td>['neutral']</td>\n",
       "    </tr>\n",
       "  </tbody>\n",
       "</table>\n",
       "<p>21938 rows × 2 columns</p>\n",
       "</div>"
      ],
      "text/plain": [
       "                                                    text    Sentiment\n",
       "0      @lopp @_Kevin_Pham @psycho_sage @naval But @Pr...  ['neutral']\n",
       "1      One click to start mining cryptocurrencies tog...  ['neutral']\n",
       "2      RT @livemarketcap: ICE Agency Charges Payza an...  ['neutral']\n",
       "3      RT @Vaultoro: We have all seen the HTTP protoc...  ['neutral']\n",
       "4      @eatBCH @Bitcoin @signalapp @myWickr @Samsung ...  ['neutral']\n",
       "...                                                  ...          ...\n",
       "21933  Bitcoin: Mastering Bitcoin: Discover How I (An...  ['neutral']\n",
       "21934  #Zhao #Dong #Recounts How He Lost 9,000 #BTC h...  ['neutral']\n",
       "21935  Bitcoin Price Technical Analysis for 03/23/201...  ['neutral']\n",
       "21936  RT @PhotoCoin_io: 2,000,000 PHT TOKEN #airdrop...  ['neutral']\n",
       "21937  RT @GymRewards: Buy #GYMRewards Tokens, Bonus ...  ['neutral']\n",
       "\n",
       "[21938 rows x 2 columns]"
      ]
     },
     "execution_count": 14,
     "metadata": {},
     "output_type": "execute_result"
    }
   ],
   "source": [
    "df1 = df1.iloc[:,[1,7]]\n",
    "df1 = df1.loc[df1[\"Sentiment\"]==\"['neutral']\"]\n",
    "df1.reset_index(drop=True)"
   ]
  },
  {
   "cell_type": "code",
   "execution_count": 15,
   "id": "b2434666",
   "metadata": {},
   "outputs": [],
   "source": [
    "for index, row in df1.iterrows(): \n",
    "    if row['Sentiment']==\"['neutral']\":\n",
    "        row['Sentiment']='neutral'"
   ]
  },
  {
   "cell_type": "code",
   "execution_count": 17,
   "id": "df14e42b",
   "metadata": {},
   "outputs": [
    {
     "data": {
      "text/html": [
       "<div>\n",
       "<style scoped>\n",
       "    .dataframe tbody tr th:only-of-type {\n",
       "        vertical-align: middle;\n",
       "    }\n",
       "\n",
       "    .dataframe tbody tr th {\n",
       "        vertical-align: top;\n",
       "    }\n",
       "\n",
       "    .dataframe thead th {\n",
       "        text-align: right;\n",
       "    }\n",
       "</style>\n",
       "<table border=\"1\" class=\"dataframe\">\n",
       "  <thead>\n",
       "    <tr style=\"text-align: right;\">\n",
       "      <th></th>\n",
       "      <th>text</th>\n",
       "      <th>Sentiment</th>\n",
       "    </tr>\n",
       "  </thead>\n",
       "  <tbody>\n",
       "    <tr>\n",
       "      <th>50845</th>\n",
       "      <td>Bitcoin: Mastering Bitcoin: Discover How I (An...</td>\n",
       "      <td>neutral</td>\n",
       "    </tr>\n",
       "    <tr>\n",
       "      <th>50847</th>\n",
       "      <td>#Zhao #Dong #Recounts How He Lost 9,000 #BTC h...</td>\n",
       "      <td>neutral</td>\n",
       "    </tr>\n",
       "    <tr>\n",
       "      <th>50850</th>\n",
       "      <td>Bitcoin Price Technical Analysis for 03/23/201...</td>\n",
       "      <td>neutral</td>\n",
       "    </tr>\n",
       "    <tr>\n",
       "      <th>50852</th>\n",
       "      <td>RT @PhotoCoin_io: 2,000,000 PHT TOKEN #airdrop...</td>\n",
       "      <td>neutral</td>\n",
       "    </tr>\n",
       "    <tr>\n",
       "      <th>50855</th>\n",
       "      <td>RT @GymRewards: Buy #GYMRewards Tokens, Bonus ...</td>\n",
       "      <td>neutral</td>\n",
       "    </tr>\n",
       "  </tbody>\n",
       "</table>\n",
       "</div>"
      ],
      "text/plain": [
       "                                                    text Sentiment\n",
       "50845  Bitcoin: Mastering Bitcoin: Discover How I (An...   neutral\n",
       "50847  #Zhao #Dong #Recounts How He Lost 9,000 #BTC h...   neutral\n",
       "50850  Bitcoin Price Technical Analysis for 03/23/201...   neutral\n",
       "50852  RT @PhotoCoin_io: 2,000,000 PHT TOKEN #airdrop...   neutral\n",
       "50855  RT @GymRewards: Buy #GYMRewards Tokens, Bonus ...   neutral"
      ]
     },
     "execution_count": 17,
     "metadata": {},
     "output_type": "execute_result"
    }
   ],
   "source": [
    "df1.tail()"
   ]
  },
  {
   "cell_type": "code",
   "execution_count": 20,
   "id": "7cd04855",
   "metadata": {},
   "outputs": [],
   "source": [
    "df = pd.concat([df,df1], ignore_index=True)"
   ]
  },
  {
   "cell_type": "code",
   "execution_count": 21,
   "id": "eeca513c",
   "metadata": {},
   "outputs": [
    {
     "data": {
      "text/plain": [
       "Text(0.5, 0, 'Sentiment Score')"
      ]
     },
     "execution_count": 21,
     "metadata": {},
     "output_type": "execute_result"
    },
    {
     "data": {
      "image/png": "[encoded data removed]",
      "text/plain": [
       "<Figure size 432x288 with 1 Axes>"
      ]
     },
     "metadata": {
      "needs_background": "light"
     },
     "output_type": "display_data"
    }
   ],
   "source": [
    "sns.countplot(x=df.Sentiment)\n",
    "plt.xlabel('Sentiment Score')"
   ]
  },
  {
   "cell_type": "code",
   "execution_count": null,
   "id": "80ad0230",
   "metadata": {},
   "outputs": [],
   "source": []
  }
 ],
 "metadata": {
  "kernelspec": {
   "display_name": "Python (notebook_env)",
   "language": "python",
   "name": "myenv1"
  },
  "language_info": {
   "codemirror_mode": {
    "name": "ipython",
    "version": 3
   },
   "file_extension": ".py",
   "mimetype": "text/x-python",
   "name": "python",
   "nbconvert_exporter": "python",
   "pygments_lexer": "ipython3",
   "version": "3.8.8"
  }
 },
 "nbformat": 4,
 "nbformat_minor": 5
}
